{
 "cells": [
  {
   "cell_type": "code",
   "execution_count": 4,
   "metadata": {
    "collapsed": true
   },
   "outputs": [],
   "source": [
    "import tweepy\n",
    "\n",
    "APP_KEY = 'XQqwUHk3iy8Wlk3JNMWjeM42D'\n",
    "APP_SECRET = 'dD5B1Z7nc4cS2hvmoCo2qsZbqwCEOcI6yK94bqYfwhX9qjs4gQ'\n",
    "OAUTH_TOKEN = '1635231295-upESx6zFjY0oVRjre9mBP3Hp6OA0krhEKWdD3a6'\n",
    "OAUTH_TOKEN_SECRET = 'cFxHzCtlCSNmpnnQEBxAn6PXMDFcLR61J8vyKmrpmU'\n",
    "\n",
    "auth = tweepy.OAuthHandler(APP_KEY, APP_SECRET)\n",
    "auth.set_access_token(OAUTH_TOKEN, OAUTH_TOKEN_SECRET)\n",
    "api = tweepy.API(auth)\n"
   ]
  },
  {
   "cell_type": "code",
   "execution_count": null,
   "metadata": {
    "collapsed": false
   },
   "outputs": [],
   "source": [
    "from tweepy.streaming import StreamListener\n",
    "from tweepy import Stream\n",
    "import json\n",
    "\n",
    "periodicos = { 'elmundo':'14436030', 'elpais':'7996082', 'abc':'19923515','larazon':'112694236',\n",
    "              'eldiarioes':'535707261','LaVanguardia':'74453123','publico':'17676713','20minutos':'31090827' ,\n",
    "              'raspbebot':'1635231295' }\n",
    "\n",
    "tweets = {}\n",
    "\n",
    "class MyListener(StreamListener):\n",
    " \n",
    "    def on_status(self, tweet):\n",
    "        \n",
    "        if tweet.user.screen_name in ['el_pais','elmundoes','abc_es','raspbebot']:\n",
    "            print(tweet.created_at)\n",
    "            print(tweet.user.screen_name)\n",
    "            print(tweet.text)\n",
    "            print(' *'*40)\n",
    "            tweets.setdefault(tweet.user.screen_name,[]).append((str(tweet.created_at), tweet.text))\n",
    "            \n",
    "    def on_error(self, status_code):\n",
    "        if status_code == 420:\n",
    "            return False\n",
    "    \n",
    "twitter_stream = Stream(auth, MyListener())\n",
    "twitter_stream.filter(follow=[periodicos['elmundo'], periodicos['elpais'],periodicos['abc'],periodicos['larazon'], \n",
    "                              periodicos['eldiarioes'], periodicos['LaVanguardia'],periodicos['publico'],\n",
    "                              periodicos['20minutos'],periodicos['raspbebot']],\n",
    "                     async=False) \n",
    "\n",
    "\n",
    "\n",
    "# Poner async=True para una ejecucion en paralelo\n",
    "# Solo castellano languages=['es']\n",
    "\n",
    "# Para seguir periodicos\n",
    "#         [elmundo, elpais, abc, larazon,eldiarioes,LaVanguardia,publico,20minutos ,raspbebot]\n",
    "# follow=['14436030', '7996082', '19923515', '112694236','535707261','74453123','17676713','31090827','1635231295']\n",
    "# Termino de busqueda track='PP,Psoe,Podemos,Ciudadanos,Rajoy,Pedro,Pablo,Albert, \\\n",
    "                              #,Mariano,Sanchez,Iglesias,Rivera, \\\n",
    "                             #CiudadanosCs,PPopular,PSOE,ahorapodemos',\n",
    "\n"
   ]
  },
  {
   "cell_type": "code",
   "execution_count": 9,
   "metadata": {
    "collapsed": false
   },
   "outputs": [
    {
     "name": "stdout",
     "output_type": "stream",
     "text": [
      "{u'el_pais': [('2015-12-08 11:51:51', u'Este fue el gran perdedor del debate de ayer para I\\xf1aki Gabilondo  #7DElDebateDecisivo https://t.co/quI7HEkk2s'), ('2015-12-08 11:56:37', u'RT @manolomoralesr: El fot\\xf3grafo Pedro Madue\\xf1o expone en CaixaForum Madrid 44 retratos de artistas y escritores espa\\xf1oles desde 1977 https:\\u2026')], u'elmundoes': [('2015-12-08 11:52:23', u\"La vieja pol\\xedtica frente al 'pueblo asambleario'. \\nEl #BAR\\xf3metro nos lleva hoy a El Arenal https://t.co/JiKjM8MDao\\nhttps://t.co/ZcmajtsJlE\"), ('2015-12-08 11:59:20', u'RT @ElMundoInter: Mueren seis ni\\xf1os afganos tras hundirse la barcaza en la que intentaban llegar a Turqu\\xeda https://t.co/aRJAfSqX8G https://\\u2026')]}\n"
     ]
    }
   ],
   "source": [
    "print(tweets)"
   ]
  },
  {
   "cell_type": "code",
   "execution_count": 10,
   "metadata": {
    "collapsed": true
   },
   "outputs": [],
   "source": [
    "with open('periodicos.json', 'a') as f:\n",
    "    datos = json.dumps(tweets, sort_keys=True, indent=4, separators=(',',':'))\n",
    "    f.write(datos)\n",
    "              "
   ]
  },
  {
   "cell_type": "code",
   "execution_count": null,
   "metadata": {
    "collapsed": true
   },
   "outputs": [],
   "source": []
  }
 ],
 "metadata": {
  "kernelspec": {
   "display_name": "Python 2",
   "language": "python",
   "name": "python2"
  },
  "language_info": {
   "codemirror_mode": {
    "name": "ipython",
    "version": 2
   },
   "file_extension": ".py",
   "mimetype": "text/x-python",
   "name": "python",
   "nbconvert_exporter": "python",
   "pygments_lexer": "ipython2",
   "version": "2.7.10"
  }
 },
 "nbformat": 4,
 "nbformat_minor": 0
}
