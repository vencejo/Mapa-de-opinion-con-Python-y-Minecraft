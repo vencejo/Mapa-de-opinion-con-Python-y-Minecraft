{
 "cells": [
  {
   "cell_type": "markdown",
   "metadata": {},
   "source": [
    "## Practicando con la API de Twitter"
   ]
  },
  {
   "cell_type": "markdown",
   "metadata": {},
   "source": [
    "El modulo a utilizar es el [tweepy](https://github.com/tweepy/tweepy)\n",
    "\n",
    "* [Documentancion tweepy para Streaming](http://docs.tweepy.org/en/v3.4.0/streaming_how_to.html)\n",
    "* [Uso basico de tweepy](https://geekytheory.com/tutorial-raspberry-pi-uso-de-twitter-en-python/)\n",
    "* [Api de tweepy](http://docs.tweepy.org/en/v3.4.0/api.html#tweepy-api-twitter-api-wrapper)\n",
    "* [Uso del Filtro de Streaming de Twitter necesario para este proyecto](https://dev.twitter.com/streaming/overview/request-parameters)\n",
    "* [Web para hallar los ids de los usuarios de Twitter](http://tweeterid.com/)\n",
    "* [Ejemplo basico datamining en Twitter con Python](http://adilmoujahid.com/posts/2014/07/twitter-analytics/)\n",
    "* [Data mining , ejemplo a seguir](http://marcobonzanini.com/2015/03/02/mining-twitter-data-with-python-part-1/)\n",
    "* [Este ejemplo se parece mucho a lo que quiero hacer](http://ravikiranj.net/posts/2012/code/how-build-twitter-sentiment-analyzer/)\n",
    "* [Clasificador Bayesiano con nltk](http://www.laurentluce.com/posts/twitter-sentiment-analysis-using-python-and-nltk/)"
   ]
  },
  {
   "cell_type": "markdown",
   "metadata": {},
   "source": [
    "### Instalacion de tweepy (para python2) en Anaconda3\n",
    "\n",
    "Creamos un eviorent con py2 e instalamos sobre el\n",
    "\n",
    "    conda create -n py2 python=2 anaconda\n",
    "    source activate py2\n",
    "    /home/guadatech/anaconda3/envs/py2/bin/easy_install tweepy\n",
    "\n",
    "Ejecutamos el notebook en el entorno creado\n",
    "\n",
    "    /home/guadatech/anaconda3/envs/py2/bin/ipython notebook"
   ]
  },
  {
   "cell_type": "code",
   "execution_count": 1,
   "metadata": {
    "collapsed": false
   },
   "outputs": [],
   "source": [
    "import tweepy\n",
    "import ConfigParser\n",
    "\n",
    "config = ConfigParser.ConfigParser()\n",
    "config.read('datosCuentaTwitter.ini')\n",
    "\n",
    "APP_KEY = config.get('DatosTwitter','APP_KEY')\n",
    "APP_SECRET = config.get('DatosTwitter','APP_SECRET')\n",
    "OAUTH_TOKEN = config.get('DatosTwitter','OAUTH_TOKEN')\n",
    "OAUTH_TOKEN_SECRET = config.get('DatosTwitter','OAUTH_TOKEN_SECRET')\n",
    "\n",
    "auth = tweepy.OAuthHandler(APP_KEY, APP_SECRET)\n",
    "auth.set_access_token(OAUTH_TOKEN, OAUTH_TOKEN_SECRET)\n",
    "api = tweepy.API(auth)\n"
   ]
  },
  {
   "cell_type": "code",
   "execution_count": 2,
   "metadata": {
    "collapsed": false
   },
   "outputs": [
    {
     "name": "stdout",
     "output_type": "stream",
     "text": [
      "LaVanguardia\n",
      "2015-12-15 13:05:42\n",
      "Cada vez estamos más conectados: la teoría de los seis grados pasa a cuatro https://t.co/fKlanP3eQZ Por @santijustel\n",
      " * * * * * * * * * * * * * * * * * * * * * * * * * * * * * * * * * * * * * * * *\n",
      "20m\n",
      "2015-12-15 13:05:09\n",
      "#BLOG  Le roba la cartera y después lo salva de morir arrollado por el metro https://t.co/lVBUM4etKK @elbecario https://t.co/YVLsXiMN0Q\n",
      " * * * * * * * * * * * * * * * * * * * * * * * * * * * * * * * * * * * * * * * *\n"
     ]
    },
    {
     "name": "stderr",
     "output_type": "stream",
     "text": [
      "/usr/local/lib/python2.7/dist-packages/requests/packages/urllib3/util/ssl_.py:90: InsecurePlatformWarning: A true SSLContext object is not available. This prevents urllib3 from configuring SSL appropriately and may cause certain SSL connections to fail. For more information, see https://urllib3.readthedocs.org/en/latest/security.html#insecureplatformwarning.\n",
      "  InsecurePlatformWarning\n"
     ]
    }
   ],
   "source": [
    "public_tweets = api.home_timeline(count=2)\n",
    "for tweet in public_tweets:\n",
    "    print(tweet.user.screen_name)\n",
    "    print(tweet.created_at)\n",
    "    print tweet.text\n",
    "    print(' *'*40)"
   ]
  },
  {
   "cell_type": "code",
   "execution_count": null,
   "metadata": {
    "collapsed": false
   },
   "outputs": [],
   "source": [
    "# Busqueda informacion\n",
    "for tweet in api.search(q='GeekyTheory',count=4, result_type='recent'):\n",
    "    print(tweet.created_at)\n",
    "    print(tweet.user.screen_name)\n",
    "    print(tweet.text)\n",
    "    print(' *'*40)"
   ]
  },
  {
   "cell_type": "code",
   "execution_count": 36,
   "metadata": {
    "collapsed": false
   },
   "outputs": [
    {
     "ename": "RateLimitError",
     "evalue": "[{u'message': u'Rate limit exceeded', u'code': 88}]",
     "output_type": "error",
     "traceback": [
      "\u001b[1;31m---------------------------------------------------------------------------\u001b[0m",
      "\u001b[1;31mRateLimitError\u001b[0m                            Traceback (most recent call last)",
      "\u001b[1;32m<ipython-input-36-c3d9e5a5d337>\u001b[0m in \u001b[0;36m<module>\u001b[1;34m()\u001b[0m\n\u001b[0;32m      7\u001b[0m \u001b[0mtweets\u001b[0m \u001b[1;33m=\u001b[0m \u001b[1;33m[\u001b[0m\u001b[1;33m]\u001b[0m\u001b[1;33m\u001b[0m\u001b[0m\n\u001b[0;32m      8\u001b[0m \u001b[0mtempTweets\u001b[0m \u001b[1;33m=\u001b[0m \u001b[1;33m[\u001b[0m\u001b[1;33m]\u001b[0m\u001b[1;33m\u001b[0m\u001b[0m\n\u001b[1;32m----> 9\u001b[1;33m \u001b[0mtmpTweets\u001b[0m \u001b[1;33m=\u001b[0m \u001b[0mapi\u001b[0m\u001b[1;33m.\u001b[0m\u001b[0mhome_timeline\u001b[0m\u001b[1;33m(\u001b[0m\u001b[1;33m)\u001b[0m\u001b[1;33m\u001b[0m\u001b[0m\n\u001b[0m\u001b[0;32m     10\u001b[0m \u001b[1;32mfor\u001b[0m \u001b[0mtweet\u001b[0m \u001b[1;32min\u001b[0m \u001b[0mtmpTweets\u001b[0m\u001b[1;33m:\u001b[0m\u001b[1;33m\u001b[0m\u001b[0m\n\u001b[0;32m     11\u001b[0m     \u001b[1;32mif\u001b[0m \u001b[0mtweet\u001b[0m\u001b[1;33m.\u001b[0m\u001b[0mcreated_at\u001b[0m \u001b[1;33m<\u001b[0m \u001b[0mendDate\u001b[0m \u001b[1;32mand\u001b[0m \u001b[0mtweet\u001b[0m\u001b[1;33m.\u001b[0m\u001b[0mcreated_at\u001b[0m \u001b[1;33m>\u001b[0m \u001b[0mstartDate\u001b[0m\u001b[1;33m:\u001b[0m\u001b[1;33m\u001b[0m\u001b[0m\n",
      "\u001b[1;32m/home/dj/anaconda3/envs/py2/lib/python2.7/site-packages/tweepy/binder.pyc\u001b[0m in \u001b[0;36m_call\u001b[1;34m(*args, **kwargs)\u001b[0m\n\u001b[0;32m    241\u001b[0m             \u001b[1;32mreturn\u001b[0m \u001b[0mmethod\u001b[0m\u001b[1;33m\u001b[0m\u001b[0m\n\u001b[0;32m    242\u001b[0m         \u001b[1;32melse\u001b[0m\u001b[1;33m:\u001b[0m\u001b[1;33m\u001b[0m\u001b[0m\n\u001b[1;32m--> 243\u001b[1;33m             \u001b[1;32mreturn\u001b[0m \u001b[0mmethod\u001b[0m\u001b[1;33m.\u001b[0m\u001b[0mexecute\u001b[0m\u001b[1;33m(\u001b[0m\u001b[1;33m)\u001b[0m\u001b[1;33m\u001b[0m\u001b[0m\n\u001b[0m\u001b[0;32m    244\u001b[0m \u001b[1;33m\u001b[0m\u001b[0m\n\u001b[0;32m    245\u001b[0m     \u001b[1;31m# Set pagination mode\u001b[0m\u001b[1;33m\u001b[0m\u001b[1;33m\u001b[0m\u001b[0m\n",
      "\u001b[1;32m/home/dj/anaconda3/envs/py2/lib/python2.7/site-packages/tweepy/binder.pyc\u001b[0m in \u001b[0;36mexecute\u001b[1;34m(self)\u001b[0m\n\u001b[0;32m    223\u001b[0m \u001b[1;33m\u001b[0m\u001b[0m\n\u001b[0;32m    224\u001b[0m                 \u001b[1;32mif\u001b[0m \u001b[0mis_rate_limit_error_message\u001b[0m\u001b[1;33m(\u001b[0m\u001b[0merror_msg\u001b[0m\u001b[1;33m)\u001b[0m\u001b[1;33m:\u001b[0m\u001b[1;33m\u001b[0m\u001b[0m\n\u001b[1;32m--> 225\u001b[1;33m                     \u001b[1;32mraise\u001b[0m \u001b[0mRateLimitError\u001b[0m\u001b[1;33m(\u001b[0m\u001b[0merror_msg\u001b[0m\u001b[1;33m,\u001b[0m \u001b[0mresp\u001b[0m\u001b[1;33m)\u001b[0m\u001b[1;33m\u001b[0m\u001b[0m\n\u001b[0m\u001b[0;32m    226\u001b[0m                 \u001b[1;32melse\u001b[0m\u001b[1;33m:\u001b[0m\u001b[1;33m\u001b[0m\u001b[0m\n\u001b[0;32m    227\u001b[0m                     \u001b[1;32mraise\u001b[0m \u001b[0mTweepError\u001b[0m\u001b[1;33m(\u001b[0m\u001b[0merror_msg\u001b[0m\u001b[1;33m,\u001b[0m \u001b[0mresp\u001b[0m\u001b[1;33m)\u001b[0m\u001b[1;33m\u001b[0m\u001b[0m\n",
      "\u001b[1;31mRateLimitError\u001b[0m: [{u'message': u'Rate limit exceeded', u'code': 88}]"
     ]
    }
   ],
   "source": [
    "# Obteniendo todos los tweets del timeline del usuario entre dos fechas determinadas\n",
    "import datetime\n",
    "\n",
    "startDate = datetime.datetime(2015, 12, 7, 0, 30, 0)  #2015-12-07 12:15:12\n",
    "endDate =   datetime.datetime(2015, 12, 7, 1, 0, 0)\n",
    "\n",
    "tweets = []\n",
    "tempTweets = []\n",
    "tmpTweets = api.home_timeline()\n",
    "for tweet in tmpTweets:\n",
    "    if tweet.created_at < endDate and tweet.created_at > startDate:\n",
    "        tweets.append(tweet)\n",
    "\n",
    "while (tmpTweets[-1].created_at > startDate):\n",
    "    print(\"Last Tweet @\", tmpTweets[-1].created_at, \" - fetching some more\")\n",
    "    tmpTweets = api.home_timeline(max_id = tmpTweets[-1].id, count=20)\n",
    "    for tweet in tmpTweets:\n",
    "        if tweet.created_at < endDate and tweet.created_at > startDate:\n",
    "            tweets.append(tweet)\n",
    "\n",
    "print(\"Numero de Tweets: %d\"% len(tweets))\n",
    "for tweet in tweets:\n",
    "    print(tweet.created_at)\n",
    "    print(tweet.user.screen_name)\n",
    "    print(tweet.text)\n",
    "    print(' *'*40)"
   ]
  },
  {
   "cell_type": "code",
   "execution_count": 64,
   "metadata": {
    "collapsed": true
   },
   "outputs": [
    {
     "name": "stdout",
     "output_type": "stream",
     "text": [
      "1\n",
      "2015-12-06 22:49:16\n",
      "Mariaescrivana\n",
      "RT @prnoticias: Sigma Dos: El candidato de @el_pais y @elmundoes es @Albert_Rivera de @CiudadanosCs ¿Sabes por qué? 🔎🔎🔎 https://t.co/X7AxQf…\n",
      " * * * * * * * * * * * * * * * * * * * * * * * * * * * * * * * * * * * * * * * *\n",
      "2\n",
      "2015-12-06 22:35:43\n",
      "cuantademagogia\n",
      "RT @elmundoes: Pedro Sánchez ofrecerá a Ciudadanos y Podemos un pacto 'anti PP' aunque pierda https://t.co/uJc4eyODau https://t.co/xIKSjaLA…\n",
      " * * * * * * * * * * * * * * * * * * * * * * * * * * * * * * * * * * * * * * * *\n",
      "3\n",
      "2015-12-06 22:28:09\n",
      "cb3rmud3z\n",
      "RT @elmundoes: Pedro Sánchez ofrecerá a Ciudadanos y Podemos un pacto 'anti PP' aunque pierda https://t.co/uJc4eyODau https://t.co/xIKSjaLA…\n",
      " * * * * * * * * * * * * * * * * * * * * * * * * * * * * * * * * * * * * * * * *\n",
      "4\n",
      "2015-12-06 22:17:32\n",
      "ERMNoticias\n",
      "'Si las cosas no cambian hoy en Venezuela, no lo harán nunca': Los ciudadanos votan con l... https://t.co/fi8QOas3KE #ERMmedia @elmundoes\n",
      " * * * * * * * * * * * * * * * * * * * * * * * * * * * * * * * * * * * * * * * *\n",
      "5\n",
      "2015-12-06 22:17:30\n",
      "LuisRosarioM\n",
      "'Si las cosas no cambian hoy en Venezuela, no lo harán nunca': Los ciudadanos votan con l... https://t.co/5rsisu9HfG #ERMmedia @elmundoes\n",
      " * * * * * * * * * * * * * * * * * * * * * * * * * * * * * * * * * * * * * * * *\n",
      "6\n",
      "2015-12-06 21:45:04\n",
      "pirriqui2011\n",
      "Hay que tener cara !!!\n",
      "Susana Díaz alerta de que votar a Ciudadanos o a Podemos es apostar por el PP https://t.co/rEOJfZRNvW vía @elmundoes\n",
      " * * * * * * * * * * * * * * * * * * * * * * * * * * * * * * * * * * * * * * * *\n",
      "7\n",
      "2015-12-06 21:43:21\n",
      "conde_suarez\n",
      "RT @Kurgancin: De lo más interesante que he leído sobre Rivera. https://t.co/bQ5IOv2aBy vía @elmundoes\n",
      " * * * * * * * * * * * * * * * * * * * * * * * * * * * * * * * * * * * * * * * *\n",
      "8\n",
      "2015-12-06 21:15:57\n",
      "4444isa\n",
      "Ciudadanos: terapia de grupo para llegar a La Moncloa https://t.co/EJXXoAmX4y vía @elmundoes\n",
      " * * * * * * * * * * * * * * * * * * * * * * * * * * * * * * * * * * * * * * * *\n",
      "9\n",
      "2015-12-06 21:10:18\n",
      "Yo_Ciudadanos\n",
      "RT @elmundoes: #LaPortada del sábado 5 de diciembre https://t.co/MGEAMJjbPx\n",
      " * * * * * * * * * * * * * * * * * * * * * * * * * * * * * * * * * * * * * * * *\n",
      "10\n",
      "2015-12-06 21:05:13\n",
      "ESTEVEZPACO\n",
      "Susana Díaz alerta de que votar a Ciudadanos es apostar por el PP ¿ votar presupuestos para esto...? https://t.co/c9KAKSrFhq vía @elmundoes\n",
      " * * * * * * * * * * * * * * * * * * * * * * * * * * * * * * * * * * * * * * * *\n",
      "11\n",
      "2015-12-06 19:49:20\n",
      "equoalcala\n",
      "Con garantías reales?Ciudadanos financiará la campaña con un crédito del Banco Popular de 4 millones https://t.co/Sz1Kszdj7h vía @elmundoes\n",
      " * * * * * * * * * * * * * * * * * * * * * * * * * * * * * * * * * * * * * * * *\n",
      "12\n",
      "2015-12-06 19:33:22\n",
      "vicentelozano\n",
      "Políticos y ciudadanos deberíamos preguntarnos por qué.  https://t.co/n3sGrvXGUq\n",
      " * * * * * * * * * * * * * * * * * * * * * * * * * * * * * * * * * * * * * * * *\n",
      "13\n",
      "2015-12-06 19:33:20\n",
      "solyramar\n",
      "Pedro Sánchez ofrecerá a Ciudadanos y Podemos un pacto 'anti PP' https://t.co/CCzoHY6HmQ vía @elmundoes\n",
      " * * * * * * * * * * * * * * * * * * * * * * * * * * * * * * * * * * * * * * * *\n",
      "14\n",
      "2015-12-06 19:08:38\n",
      "piyogaca\n",
      "RT @RLSerrano: https://t.co/61dfigOx6b Ni @elpais_espana, ni @elmundoes, ni @laSextaTV, ni @A3Noticias te contarán la verdad sobre #Ciudada…\n",
      " * * * * * * * * * * * * * * * * * * * * * * * * * * * * * * * * * * * * * * * *\n",
      "15\n",
      "2015-12-06 19:04:48\n",
      "MJesusCalderon\n",
      "Como está el patio !! Susana Díaz alerta de que votar a Ciudadanos o a Podemos es apostar por el PP https://t.co/VPdcY7ZiTE vía elmundoes\n",
      " * * * * * * * * * * * * * * * * * * * * * * * * * * * * * * * * * * * * * * * *\n",
      "16\n",
      "2015-12-06 18:46:38\n",
      "LuisMFuentes70\n",
      "Qué arte tiene \"Susana Díaz alerta de que votar a Ciudadanos o a Podemos es apostar por el PP\" https://t.co/iJajFn6hhK vía @elmundoes\n",
      " * * * * * * * * * * * * * * * * * * * * * * * * * * * * * * * * * * * * * * * *\n",
      "17\n",
      "2015-12-06 18:01:49\n",
      "AidaPFV\n",
      "@crispapin @PSpresidente @elmundoes @el_pais El País puede ser que lo ponga,mientras no se hable mal de Ciudadanos,todo les parece bien.\n",
      " * * * * * * * * * * * * * * * * * * * * * * * * * * * * * * * * * * * * * * * *\n",
      "18\n",
      "2015-12-06 17:48:09\n",
      "carmencp76\n",
      "RT @carloscuestaEM: El PP ganaría por 8 puntos al PSOE que casi empataría con Ciudadanos https://t.co/AGscznE4OP vía @elmundoes\n",
      " * * * * * * * * * * * * * * * * * * * * * * * * * * * * * * * * * * * * * * * *\n",
      "19\n",
      "2015-12-06 17:31:46\n",
      "BobEspo19582015\n",
      "RT @romulense: Marjaliza dice ante el juez que pagó viajes a dos cargos de Ciudadanos https://t.co/z4g0t8N11K vía @elmundoes\n",
      " * * * * * * * * * * * * * * * * * * * * * * * * * * * * * * * * * * * * * * * *\n",
      "20\n",
      "2015-12-06 17:11:33\n",
      "cgfp58\n",
      "RT @elmundoes: Pedro Sánchez ofrecerá a Ciudadanos y Podemos un pacto 'anti PP' aunque pierda https://t.co/uJc4eyODau https://t.co/xIKSjaLA…\n",
      " * * * * * * * * * * * * * * * * * * * * * * * * * * * * * * * * * * * * * * * *\n",
      "21\n",
      "2015-12-06 17:02:26\n",
      "Carlos_Aranzana\n",
      "RT @RLSerrano: https://t.co/61dfigOx6b Ni @elpais_espana, ni @elmundoes, ni @laSextaTV, ni @A3Noticias te contarán la verdad sobre #Ciudada…\n",
      " * * * * * * * * * * * * * * * * * * * * * * * * * * * * * * * * * * * * * * * *\n",
      "22\n",
      "2015-12-06 16:59:26\n",
      "MeliDeNervion\n",
      "RT @MiguelSanz92: ¡¡OJO!! Pedro Sánchez ofrecerá a Ciudadanos y Podemos un pacto 'anti PP' aunque pierda. https://t.co/Tf76Yx2AJK vía @elmu…\n",
      " * * * * * * * * * * * * * * * * * * * * * * * * * * * * * * * * * * * * * * * *\n",
      "23\n",
      "2015-12-06 16:34:00\n",
      "villamarilis\n",
      "RT @yosoynaranjito_: Ciudadanos: terapia de grupo para llegar a La Moncloa https://t.co/TPfzCkDj5b vía @elmundoes\n",
      " * * * * * * * * * * * * * * * * * * * * * * * * * * * * * * * * * * * * * * * *\n",
      "24\n",
      "2015-12-06 16:21:43\n",
      "PedroCsAlba\n",
      "RT @RLSerrano: https://t.co/61dfigOx6b Ni @elpais_espana, ni @elmundoes, ni @laSextaTV, ni @A3Noticias te contarán la verdad sobre #Ciudada…\n",
      " * * * * * * * * * * * * * * * * * * * * * * * * * * * * * * * * * * * * * * * *\n",
      "25\n",
      "2015-12-06 16:15:47\n",
      "RLSerrano\n",
      "https://t.co/61dfigOx6b Ni @elpais_espana, ni @elmundoes, ni @laSextaTV, ni @A3Noticias te contarán la verdad sobre #Ciudadanos y Rivera.\n",
      " * * * * * * * * * * * * * * * * * * * * * * * * * * * * * * * * * * * * * * * *\n",
      "26\n",
      "2015-12-06 16:12:58\n",
      "yosoynaranjito_\n",
      "Ciudadanos: terapia de grupo para llegar a La Moncloa https://t.co/TPfzCkDj5b vía @elmundoes\n",
      " * * * * * * * * * * * * * * * * * * * * * * * * * * * * * * * * * * * * * * * *\n",
      "27\n",
      "2015-12-06 15:58:37\n",
      "CapitanFeria\n",
      "@Perroviejo1982 @elmundoes Y el PP dice q votar Ciudadanos es votar Sanchez.\n",
      "Lo q esta claro es q son Ciudadanos camaleonicos.\n",
      " * * * * * * * * * * * * * * * * * * * * * * * * * * * * * * * * * * * * * * * *\n",
      "28\n",
      "2015-12-06 15:52:59\n",
      "Perroviejo1982\n",
      "Susana Díaz alerta de que votar a Ciudadanos o a Podemos es apostar por el PP https://t.co/UES0a5oB46 vía @elmundoes\n",
      " * * * * * * * * * * * * * * * * * * * * * * * * * * * * * * * * * * * * * * * *\n",
      "29\n",
      "2015-12-06 15:18:22\n",
      "komadreja6\n",
      "RT @MiguelSanz92: ¡¡OJO!! Pedro Sánchez ofrecerá a Ciudadanos y Podemos un pacto 'anti PP' aunque pierda. https://t.co/Tf76Yx2AJK vía @elmu…\n",
      " * * * * * * * * * * * * * * * * * * * * * * * * * * * * * * * * * * * * * * * *\n",
      "30\n",
      "2015-12-06 15:00:16\n",
      "JqManso\n",
      "@GalvanX @elmundoes Esta noche están en juego ésa y todas las demás libertades políticas de 31 millones de ciudadanos de Venezuela.\n",
      " * * * * * * * * * * * * * * * * * * * * * * * * * * * * * * * * * * * * * * * *\n",
      "31\n",
      "2015-12-06 14:52:25\n",
      "JqManso\n",
      "Ciudadanos:'focus group' para medir las sensaciones del votante. https://t.co/UVerGRIKLk vía @_raulpina_ @elmundoes\n",
      " * * * * * * * * * * * * * * * * * * * * * * * * * * * * * * * * * * * * * * * *\n",
      "32\n",
      "2015-12-06 14:37:09\n",
      "cramosr13\n",
      "RT @MiguelSanz92: ¡¡OJO!! Pedro Sánchez ofrecerá a Ciudadanos y Podemos un pacto 'anti PP' aunque pierda. https://t.co/Tf76Yx2AJK vía @elmu…\n",
      " * * * * * * * * * * * * * * * * * * * * * * * * * * * * * * * * * * * * * * * *\n",
      "33\n",
      "2015-12-06 14:14:45\n",
      "agataparda\n",
      "@Papel_EM @elmundoes  Ciudadanos se desinfla: no logra concentrar ni a 60 personas en Valencia,la mayoría afiliados. https://t.co/MuHLGReWQu\n",
      " * * * * * * * * * * * * * * * * * * * * * * * * * * * * * * * * * * * * * * * *\n",
      "34\n",
      "2015-12-06 13:38:31\n",
      "Niccomalc\n",
      "RT @MiguelSanz92: ¡¡OJO!! Pedro Sánchez ofrecerá a Ciudadanos y Podemos un pacto 'anti PP' aunque pierda. https://t.co/Tf76Yx2AJK vía @elmu…\n",
      " * * * * * * * * * * * * * * * * * * * * * * * * * * * * * * * * * * * * * * * *\n",
      "35\n",
      "2015-12-06 13:28:44\n",
      "carnedecapital\n",
      "RT @romulense: Marjaliza dice ante el juez que pagó viajes a dos cargos de Ciudadanos https://t.co/z4g0t8N11K vía @elmundoes\n",
      " * * * * * * * * * * * * * * * * * * * * * * * * * * * * * * * * * * * * * * * *\n",
      "36\n",
      "2015-12-06 12:50:52\n",
      "elmundomalaga\n",
      "Batalla por el centro a la derecha https://t.co/EIKqVoLVEV vía @elmundoes por @luismcarceller #segundaplana #elecciones20D #ciudadanos #pp\n",
      " * * * * * * * * * * * * * * * * * * * * * * * * * * * * * * * * * * * * * * * *\n",
      "37\n",
      "2015-12-06 12:48:34\n",
      "MarieneMoreno\n",
      "RT @CsMajadahonda: .@Albert_Rivera rechaza 'cuatro años más con Rajoy' https://t.co/1mXJQ2KXld vía @elmundoes #ciudadanos\n",
      " * * * * * * * * * * * * * * * * * * * * * * * * * * * * * * * * * * * * * * * *\n",
      "38\n",
      "2015-12-06 11:13:34\n",
      "mariaabadmullor\n",
      "CANDIDATURA ÚNICA YA!!!  Pedro Sánchez ofrecerá a Ciudadanos y Podemos un pacto 'anti PP' https://t.co/LsBHKjvq8d vía @elmundoes\n",
      " * * * * * * * * * * * * * * * * * * * * * * * * * * * * * * * * * * * * * * * *\n",
      "39\n",
      "2015-12-06 11:13:20\n",
      "rociocalderonmz\n",
      "RT @elmundoes: Pedro Sánchez ofrecerá a Ciudadanos y Podemos un pacto 'anti PP' aunque pierda https://t.co/uJc4eyODau https://t.co/xIKSjaLA…\n",
      " * * * * * * * * * * * * * * * * * * * * * * * * * * * * * * * * * * * * * * * *\n",
      "40\n",
      "2015-12-06 11:09:29\n",
      "amalalberga\n",
      "Ciudadanos propone a los universitarios ser 'comerciales' de la agricultura española https://t.co/p8xtt9uFr5 vía @elmundoes\n",
      " * * * * * * * * * * * * * * * * * * * * * * * * * * * * * * * * * * * * * * * *\n",
      "41\n",
      "2015-12-06 10:32:47\n",
      "Fercampos45\n",
      "Marjaliza dice ante el juez que pagó viajes a dos cargos de Ciudadanos https://t.co/PUnuXQkMhm vía @elmundoes\n",
      " * * * * * * * * * * * * * * * * * * * * * * * * * * * * * * * * * * * * * * * *\n",
      "42\n",
      "2015-12-06 10:17:20\n",
      "conde_suarez\n",
      "RT @marich: Ciudadanos: más poesía que prosa https://t.co/HZjiD1f0X9 vía @elmundoes por @conde_suarez\n",
      " * * * * * * * * * * * * * * * * * * * * * * * * * * * * * * * * * * * * * * * *\n",
      "43\n",
      "2015-12-06 09:50:58\n",
      "_raulpina_\n",
      "Ciudadanos: terapia de grupo para llegar a La Moncloa. Así son los focus group en la política  https://t.co/67L5ivqB5p vía @elmundoes\n",
      " * * * * * * * * * * * * * * * * * * * * * * * * * * * * * * * * * * * * * * * *\n",
      "44\n",
      "2015-12-06 09:47:04\n",
      "trinidad1956\n",
      "RT @elmundoes: Pedro Sánchez ofrecerá a Ciudadanos y Podemos un pacto 'anti PP' aunque pierda https://t.co/uJc4eyODau https://t.co/xIKSjaLA…\n",
      " * * * * * * * * * * * * * * * * * * * * * * * * * * * * * * * * * * * * * * * *\n",
      "45\n",
      "2015-12-06 09:38:41\n",
      "antonovas\n",
      "RT @romulense: Marjaliza dice ante el juez que pagó viajes a dos cargos de Ciudadanos https://t.co/z4g0t8N11K vía @elmundoes\n",
      " * * * * * * * * * * * * * * * * * * * * * * * * * * * * * * * * * * * * * * * *\n",
      "46\n",
      "2015-12-06 09:05:24\n",
      "mohatam\n",
      "RT @romulense: Marjaliza dice ante el juez que pagó viajes a dos cargos de Ciudadanos https://t.co/z4g0t8N11K vía @elmundoes\n",
      " * * * * * * * * * * * * * * * * * * * * * * * * * * * * * * * * * * * * * * * *\n",
      "47\n",
      "2015-12-06 09:01:32\n",
      "romulense\n",
      "Marjaliza dice ante el juez que pagó viajes a dos cargos de Ciudadanos https://t.co/z4g0t8N11K vía @elmundoes\n",
      " * * * * * * * * * * * * * * * * * * * * * * * * * * * * * * * * * * * * * * * *\n",
      "48\n",
      "2015-12-06 08:11:55\n",
      "djvarell\n",
      "RT @HoradeJugar: Ciudadanos financiará la campaña con un crédito del Banco Popular, el de los curas, de 4 millones https://t.co/c8XjsML9UT …\n",
      " * * * * * * * * * * * * * * * * * * * * * * * * * * * * * * * * * * * * * * * *\n",
      "49\n",
      "2015-12-06 08:11:21\n",
      "jesuschatinova1\n",
      "@elmundoes Yo creo que una gran parte debería ser para todos aquellos ciudadanos de esos países que residen en España.\n",
      " * * * * * * * * * * * * * * * * * * * * * * * * * * * * * * * * * * * * * * * *\n",
      "50\n",
      "2015-12-06 04:39:55\n",
      "SerranoJaen\n",
      "Pedro Sánchez ofrecerá a Ciudadanos y Podemos un pacto 'anti PP' https://t.co/ugv8zaldWJ vía @elmundoes\n",
      " * * * * * * * * * * * * * * * * * * * * * * * * * * * * * * * * * * * * * * * *\n",
      "51\n",
      "2015-12-06 03:32:22\n",
      "jmle01\n",
      "Pedro Sánchez ofrecerá a Ciudadanos y Podemos un pacto 'anti PP' https://t.co/z149UEqzQb vía @elmundoes\n",
      " * * * * * * * * * * * * * * * * * * * * * * * * * * * * * * * * * * * * * * * *\n",
      "52\n",
      "2015-12-06 01:45:25\n",
      "gadearevilla\n",
      "RT @elmundoes: Pedro Sánchez ofrecerá a Ciudadanos y Podemos un pacto 'anti PP' aunque pierda https://t.co/uJc4eyODau https://t.co/xIKSjaLA…\n",
      " * * * * * * * * * * * * * * * * * * * * * * * * * * * * * * * * * * * * * * * *\n",
      "53\n",
      "2015-12-06 01:31:24\n",
      "mjpartera\n",
      "Ciudadanos quiere regular los vientres de alquiler en España https://t.co/2a0HJenE3q vía elmundoes\n",
      " * * * * * * * * * * * * * * * * * * * * * * * * * * * * * * * * * * * * * * * *\n",
      "54\n",
      "2015-12-06 01:05:37\n",
      "PacoBono\n",
      "@elmundoes @rterrasa Porque son falsas, porque los ciudadanos no eligen nada. Si fueran verdaderas se disputarían en los distritos.\n",
      " * * * * * * * * * * * * * * * * * * * * * * * * * * * * * * * * * * * * * * * *\n",
      "55\n",
      "2015-12-06 00:42:37\n",
      "CsVegasDelGenil\n",
      "RT @CsMajadahonda: .@Albert_Rivera rechaza 'cuatro años más con Rajoy' https://t.co/1mXJQ2KXld vía @elmundoes #ciudadanos\n",
      " * * * * * * * * * * * * * * * * * * * * * * * * * * * * * * * * * * * * * * * *\n",
      "56\n",
      "2015-12-06 00:20:31\n",
      "ANTONIO39R\n",
      "RT @CsMajadahonda: .@Albert_Rivera rechaza 'cuatro años más con Rajoy' https://t.co/1mXJQ2KXld vía @elmundoes #ciudadanos\n",
      " * * * * * * * * * * * * * * * * * * * * * * * * * * * * * * * * * * * * * * * *\n",
      "57\n",
      "2015-12-06 00:19:45\n",
      "CsMajadahonda\n",
      ".@Albert_Rivera rechaza 'cuatro años más con Rajoy' https://t.co/1mXJQ2KXld vía @elmundoes #ciudadanos\n",
      " * * * * * * * * * * * * * * * * * * * * * * * * * * * * * * * * * * * * * * * *\n"
     ]
    }
   ],
   "source": [
    "# Otro metodo \n",
    "cont = 0\n",
    "for tweet in tweepy.Cursor(api.search,q='ciudadanos,elmundoes', since=\"2015-12-06\", until=\"2015-12-07\").items(100):\n",
    "    cont += 1\n",
    "    print(cont)\n",
    "    print(tweet.created_at)\n",
    "    print(tweet.user.screen_name)\n",
    "    print(tweet.text)\n",
    "    print(' *'*40)\n",
    "    \n",
    "\n"
   ]
  },
  {
   "cell_type": "code",
   "execution_count": 54,
   "metadata": {
    "collapsed": true
   },
   "outputs": [
    {
     "name": "stdout",
     "output_type": "stream",
     "text": [
      "1\n",
      "2015-12-07 18:16:21\n",
      "elmundoes\n",
      "RT @ElMundo_Madrid: Si estás preparando tu regreso a Madrid, anota los puntos negros de las principales vías https://t.co/e6hNncEEuT https:…\n",
      " * * * * * * * * * * * * * * * * * * * * * * * * * * * * * * * * * * * * * * * *\n",
      "2\n",
      "2015-12-07 18:11:52\n",
      "elmundoes\n",
      "RT @ElMundoEspana: Sánchez, Iglesias, Rivera y Santamaría debatirán de pie, sin atriles ni móviles\n",
      "https://t.co/ysFGtjv9HS https://t.co/70p…\n",
      " * * * * * * * * * * * * * * * * * * * * * * * * * * * * * * * * * * * * * * * *\n",
      "3\n",
      "2015-12-07 17:55:13\n",
      "elmundoes\n",
      "Condenado un maltratador que inyectaba cocaína en los pechos a su víctima https://t.co/h07X8znWYk https://t.co/mFBl1kcQEJ\n",
      " * * * * * * * * * * * * * * * * * * * * * * * * * * * * * * * * * * * * * * * *\n",
      "4\n",
      "2015-12-07 17:47:52\n",
      "elmundoes\n",
      "RT @ElMundoEconomia: El 'Black Friday' bate el récord histórico de solicitudes para comprar armas en EEUU https://t.co/r4h73mIo2b vía @elmu…\n",
      " * * * * * * * * * * * * * * * * * * * * * * * * * * * * * * * * * * * * * * * *\n",
      "5\n",
      "2015-12-07 17:34:37\n",
      "elmundoes\n",
      "Una \"primera ministra\" y tres aspirantes #7DElDebateDecisivo https://t.co/VuqaGJWlVs https://t.co/wk07DtugPF\n",
      " * * * * * * * * * * * * * * * * * * * * * * * * * * * * * * * * * * * * * * * *\n",
      "6\n",
      "2015-12-07 17:15:27\n",
      "elmundoes\n",
      "RT @ElMundoEspana: El cartel que avergüenza al PP https://t.co/VYPIajE7dT https://t.co/80c6P1VQvy\n",
      " * * * * * * * * * * * * * * * * * * * * * * * * * * * * * * * * * * * * * * * *\n",
      "7\n",
      "2015-12-07 17:04:47\n",
      "elmundoes\n",
      "RT @fpasc: La imagen de Pedro Sánchez: guapo, pero ¿algo más? https://t.co/K32H9j1P8D vía @PoliticayModa\n",
      " * * * * * * * * * * * * * * * * * * * * * * * * * * * * * * * * * * * * * * * *\n",
      "8\n",
      "2015-12-07 16:52:30\n",
      "elmundoes\n",
      "Le quitan la custodia de su hijo por 'falta de recursos económicos y vivienda propia' https://t.co/COuJlNv8ES https://t.co/xMub1oS12G\n",
      " * * * * * * * * * * * * * * * * * * * * * * * * * * * * * * * * * * * * * * * *\n",
      "9\n",
      "2015-12-07 16:37:09\n",
      "elmundoes\n",
      "RT @ElMundoEspana: El 'crowdfunding' de Ciudadanos: por 500 euros puedes ser por un día dirigente de Rivera  https://t.co/Nj8tvOfltk https:…\n",
      " * * * * * * * * * * * * * * * * * * * * * * * * * * * * * * * * * * * * * * * *\n",
      "10\n",
      "2015-12-07 16:29:37\n",
      "elmundoes\n",
      "RT @Inaki_Gil: Los segundos serán los primeros ... dice Jiménez Losantos https://t.co/HmifhASDjm vía @elmundoes\n",
      " * * * * * * * * * * * * * * * * * * * * * * * * * * * * * * * * * * * * * * * *\n"
     ]
    }
   ],
   "source": [
    "# Otro metodo \n",
    "cont = 0\n",
    "for tweet in tweepy.Cursor(api.user_timeline,id=\"elmundoes\").items(10):\n",
    "    cont += 1\n",
    "    print(cont)\n",
    "    print(tweet.created_at)\n",
    "    print(tweet.user.screen_name)\n",
    "    print(tweet.text)\n",
    "    print(' *'*40)"
   ]
  },
  {
   "cell_type": "code",
   "execution_count": 19,
   "metadata": {
    "collapsed": true
   },
   "outputs": [],
   "source": [
    "\n",
    "import datetime\n",
    "\n",
    "def buscaTweetsPorTerminosYFechas(usuario,terminos, desde, hasta):\n",
    "    \"\"\" Funcion para devolver los tweets que contengan una lista de terminos\n",
    "        de una fecha desde a una fecha hasta, los terminos y las fechas se han de dar en cadenas \"\"\"\n",
    "    busqueda = ','.join(terminos)\n",
    "    tweets = []\n",
    "    tweetsUnicos = set()\n",
    "    for tweet in tweepy.Cursor(api.search,q=busqueda, since=desde, until=hasta).items(100):\n",
    "        if usuario == tweet.user.screen_name and not tweet.text in tweetsUnicos:\n",
    "            tweets.append((tweet.created_at,tweet.text))\n",
    "            tweetsUnicos.add(tweet.text)\n",
    "    return tweets"
   ]
  },
  {
   "cell_type": "code",
   "execution_count": 20,
   "metadata": {
    "collapsed": false
   },
   "outputs": [
    {
     "ename": "TweepError",
     "evalue": "{\"errors\":[{\"message\":\"Rate limit exceeded\",\"code\":88}]}",
     "output_type": "error",
     "traceback": [
      "\u001b[1;31m---------------------------------------------------------------------------\u001b[0m",
      "\u001b[1;31mTweepError\u001b[0m                                Traceback (most recent call last)",
      "\u001b[1;32m<ipython-input-20-14328fa76286>\u001b[0m in \u001b[0;36m<module>\u001b[1;34m()\u001b[0m\n\u001b[1;32m----> 1\u001b[1;33m \u001b[0mtweets\u001b[0m \u001b[1;33m=\u001b[0m \u001b[0mbuscaTweetsPorTerminosYFechas\u001b[0m\u001b[1;33m(\u001b[0m\u001b[1;34m'elmundoes'\u001b[0m\u001b[1;33m,\u001b[0m\u001b[1;33m[\u001b[0m\u001b[1;34m'ciudadanos'\u001b[0m\u001b[1;33m]\u001b[0m\u001b[1;33m,\u001b[0m\u001b[1;34m\"2015-12-07\"\u001b[0m\u001b[1;33m,\u001b[0m\u001b[1;34m\"2015-12-08\"\u001b[0m \u001b[1;33m)\u001b[0m\u001b[1;33m\u001b[0m\u001b[0m\n\u001b[0m\u001b[0;32m      2\u001b[0m \u001b[1;32mprint\u001b[0m\u001b[1;33m(\u001b[0m\u001b[0mlen\u001b[0m\u001b[1;33m(\u001b[0m\u001b[0mtweets\u001b[0m\u001b[1;33m)\u001b[0m\u001b[1;33m)\u001b[0m\u001b[1;33m\u001b[0m\u001b[0m\n",
      "\u001b[1;32m<ipython-input-19-6d1699c67ca0>\u001b[0m in \u001b[0;36mbuscaTweetsPorTerminosYFechas\u001b[1;34m(usuario, terminos, desde, hasta)\u001b[0m\n\u001b[0;32m      8\u001b[0m     \u001b[0mtweets\u001b[0m \u001b[1;33m=\u001b[0m \u001b[1;33m[\u001b[0m\u001b[1;33m]\u001b[0m\u001b[1;33m\u001b[0m\u001b[0m\n\u001b[0;32m      9\u001b[0m     \u001b[0mtweetsUnicos\u001b[0m \u001b[1;33m=\u001b[0m \u001b[0mset\u001b[0m\u001b[1;33m(\u001b[0m\u001b[1;33m)\u001b[0m\u001b[1;33m\u001b[0m\u001b[0m\n\u001b[1;32m---> 10\u001b[1;33m     \u001b[1;32mfor\u001b[0m \u001b[0mtweet\u001b[0m \u001b[1;32min\u001b[0m \u001b[0mtweepy\u001b[0m\u001b[1;33m.\u001b[0m\u001b[0mCursor\u001b[0m\u001b[1;33m(\u001b[0m\u001b[0mapi\u001b[0m\u001b[1;33m.\u001b[0m\u001b[0msearch\u001b[0m\u001b[1;33m,\u001b[0m\u001b[0mq\u001b[0m\u001b[1;33m=\u001b[0m\u001b[0mbusqueda\u001b[0m\u001b[1;33m,\u001b[0m \u001b[0msince\u001b[0m\u001b[1;33m=\u001b[0m\u001b[0mdesde\u001b[0m\u001b[1;33m,\u001b[0m \u001b[0muntil\u001b[0m\u001b[1;33m=\u001b[0m\u001b[0mhasta\u001b[0m\u001b[1;33m)\u001b[0m\u001b[1;33m.\u001b[0m\u001b[0mitems\u001b[0m\u001b[1;33m(\u001b[0m\u001b[1;36m100\u001b[0m\u001b[1;33m)\u001b[0m\u001b[1;33m:\u001b[0m\u001b[1;33m\u001b[0m\u001b[0m\n\u001b[0m\u001b[0;32m     11\u001b[0m         \u001b[1;32mif\u001b[0m \u001b[0musuario\u001b[0m \u001b[1;33m==\u001b[0m \u001b[0mtweet\u001b[0m\u001b[1;33m.\u001b[0m\u001b[0muser\u001b[0m\u001b[1;33m.\u001b[0m\u001b[0mscreen_name\u001b[0m \u001b[1;32mand\u001b[0m \u001b[1;32mnot\u001b[0m \u001b[0mtweet\u001b[0m\u001b[1;33m.\u001b[0m\u001b[0mtext\u001b[0m \u001b[1;32min\u001b[0m \u001b[0mtweetsUnicos\u001b[0m\u001b[1;33m:\u001b[0m\u001b[1;33m\u001b[0m\u001b[0m\n\u001b[0;32m     12\u001b[0m             \u001b[0mtweets\u001b[0m\u001b[1;33m.\u001b[0m\u001b[0mappend\u001b[0m\u001b[1;33m(\u001b[0m\u001b[1;33m(\u001b[0m\u001b[0mtweet\u001b[0m\u001b[1;33m.\u001b[0m\u001b[0mcreated_at\u001b[0m\u001b[1;33m,\u001b[0m\u001b[0mtweet\u001b[0m\u001b[1;33m.\u001b[0m\u001b[0mtext\u001b[0m\u001b[1;33m)\u001b[0m\u001b[1;33m)\u001b[0m\u001b[1;33m\u001b[0m\u001b[0m\n",
      "\u001b[1;32m/home/dj/anaconda3/envs/py2/lib/python2.7/site-packages/tweepy/cursor.pyc\u001b[0m in \u001b[0;36mnext\u001b[1;34m(self)\u001b[0m\n\u001b[0;32m    195\u001b[0m         \u001b[1;32mif\u001b[0m \u001b[0mself\u001b[0m\u001b[1;33m.\u001b[0m\u001b[0mcurrent_page\u001b[0m \u001b[1;32mis\u001b[0m \u001b[0mNone\u001b[0m \u001b[1;32mor\u001b[0m \u001b[0mself\u001b[0m\u001b[1;33m.\u001b[0m\u001b[0mpage_index\u001b[0m \u001b[1;33m==\u001b[0m \u001b[0mlen\u001b[0m\u001b[1;33m(\u001b[0m\u001b[0mself\u001b[0m\u001b[1;33m.\u001b[0m\u001b[0mcurrent_page\u001b[0m\u001b[1;33m)\u001b[0m \u001b[1;33m-\u001b[0m \u001b[1;36m1\u001b[0m\u001b[1;33m:\u001b[0m\u001b[1;33m\u001b[0m\u001b[0m\n\u001b[0;32m    196\u001b[0m             \u001b[1;31m# Reached end of current page, get the next page...\u001b[0m\u001b[1;33m\u001b[0m\u001b[1;33m\u001b[0m\u001b[0m\n\u001b[1;32m--> 197\u001b[1;33m             \u001b[0mself\u001b[0m\u001b[1;33m.\u001b[0m\u001b[0mcurrent_page\u001b[0m \u001b[1;33m=\u001b[0m \u001b[0mself\u001b[0m\u001b[1;33m.\u001b[0m\u001b[0mpage_iterator\u001b[0m\u001b[1;33m.\u001b[0m\u001b[0mnext\u001b[0m\u001b[1;33m(\u001b[0m\u001b[1;33m)\u001b[0m\u001b[1;33m\u001b[0m\u001b[0m\n\u001b[0m\u001b[0;32m    198\u001b[0m             \u001b[0mself\u001b[0m\u001b[1;33m.\u001b[0m\u001b[0mpage_index\u001b[0m \u001b[1;33m=\u001b[0m \u001b[1;33m-\u001b[0m\u001b[1;36m1\u001b[0m\u001b[1;33m\u001b[0m\u001b[0m\n\u001b[0;32m    199\u001b[0m         \u001b[0mself\u001b[0m\u001b[1;33m.\u001b[0m\u001b[0mpage_index\u001b[0m \u001b[1;33m+=\u001b[0m \u001b[1;36m1\u001b[0m\u001b[1;33m\u001b[0m\u001b[0m\n",
      "\u001b[1;32m/home/dj/anaconda3/envs/py2/lib/python2.7/site-packages/tweepy/cursor.pyc\u001b[0m in \u001b[0;36mnext\u001b[1;34m(self)\u001b[0m\n\u001b[0;32m    106\u001b[0m \u001b[1;33m\u001b[0m\u001b[0m\n\u001b[0;32m    107\u001b[0m         \u001b[1;32mif\u001b[0m \u001b[0mself\u001b[0m\u001b[1;33m.\u001b[0m\u001b[0mindex\u001b[0m \u001b[1;33m>=\u001b[0m \u001b[0mlen\u001b[0m\u001b[1;33m(\u001b[0m\u001b[0mself\u001b[0m\u001b[1;33m.\u001b[0m\u001b[0mresults\u001b[0m\u001b[1;33m)\u001b[0m \u001b[1;33m-\u001b[0m \u001b[1;36m1\u001b[0m\u001b[1;33m:\u001b[0m\u001b[1;33m\u001b[0m\u001b[0m\n\u001b[1;32m--> 108\u001b[1;33m             \u001b[0mdata\u001b[0m \u001b[1;33m=\u001b[0m \u001b[0mself\u001b[0m\u001b[1;33m.\u001b[0m\u001b[0mmethod\u001b[0m\u001b[1;33m(\u001b[0m\u001b[0mmax_id\u001b[0m\u001b[1;33m=\u001b[0m\u001b[0mself\u001b[0m\u001b[1;33m.\u001b[0m\u001b[0mmax_id\u001b[0m\u001b[1;33m,\u001b[0m \u001b[0mparser\u001b[0m\u001b[1;33m=\u001b[0m\u001b[0mRawParser\u001b[0m\u001b[1;33m(\u001b[0m\u001b[1;33m)\u001b[0m\u001b[1;33m,\u001b[0m \u001b[1;33m*\u001b[0m\u001b[0mself\u001b[0m\u001b[1;33m.\u001b[0m\u001b[0margs\u001b[0m\u001b[1;33m,\u001b[0m \u001b[1;33m**\u001b[0m\u001b[0mself\u001b[0m\u001b[1;33m.\u001b[0m\u001b[0mkargs\u001b[0m\u001b[1;33m)\u001b[0m\u001b[1;33m\u001b[0m\u001b[0m\n\u001b[0m\u001b[0;32m    109\u001b[0m \u001b[1;33m\u001b[0m\u001b[0m\n\u001b[0;32m    110\u001b[0m             \u001b[1;32mif\u001b[0m \u001b[0mhasattr\u001b[0m\u001b[1;33m(\u001b[0m\u001b[0mself\u001b[0m\u001b[1;33m.\u001b[0m\u001b[0mmethod\u001b[0m\u001b[1;33m,\u001b[0m \u001b[1;34m'__self__'\u001b[0m\u001b[1;33m)\u001b[0m\u001b[1;33m:\u001b[0m\u001b[1;33m\u001b[0m\u001b[0m\n",
      "\u001b[1;32m/home/dj/anaconda3/envs/py2/lib/python2.7/site-packages/tweepy/binder.pyc\u001b[0m in \u001b[0;36m_call\u001b[1;34m(*args, **kwargs)\u001b[0m\n\u001b[0;32m    241\u001b[0m             \u001b[1;32mreturn\u001b[0m \u001b[0mmethod\u001b[0m\u001b[1;33m\u001b[0m\u001b[0m\n\u001b[0;32m    242\u001b[0m         \u001b[1;32melse\u001b[0m\u001b[1;33m:\u001b[0m\u001b[1;33m\u001b[0m\u001b[0m\n\u001b[1;32m--> 243\u001b[1;33m             \u001b[1;32mreturn\u001b[0m \u001b[0mmethod\u001b[0m\u001b[1;33m.\u001b[0m\u001b[0mexecute\u001b[0m\u001b[1;33m(\u001b[0m\u001b[1;33m)\u001b[0m\u001b[1;33m\u001b[0m\u001b[0m\n\u001b[0m\u001b[0;32m    244\u001b[0m \u001b[1;33m\u001b[0m\u001b[0m\n\u001b[0;32m    245\u001b[0m     \u001b[1;31m# Set pagination mode\u001b[0m\u001b[1;33m\u001b[0m\u001b[1;33m\u001b[0m\u001b[0m\n",
      "\u001b[1;32m/home/dj/anaconda3/envs/py2/lib/python2.7/site-packages/tweepy/binder.pyc\u001b[0m in \u001b[0;36mexecute\u001b[1;34m(self)\u001b[0m\n\u001b[0;32m    225\u001b[0m                     \u001b[1;32mraise\u001b[0m \u001b[0mRateLimitError\u001b[0m\u001b[1;33m(\u001b[0m\u001b[0merror_msg\u001b[0m\u001b[1;33m,\u001b[0m \u001b[0mresp\u001b[0m\u001b[1;33m)\u001b[0m\u001b[1;33m\u001b[0m\u001b[0m\n\u001b[0;32m    226\u001b[0m                 \u001b[1;32melse\u001b[0m\u001b[1;33m:\u001b[0m\u001b[1;33m\u001b[0m\u001b[0m\n\u001b[1;32m--> 227\u001b[1;33m                     \u001b[1;32mraise\u001b[0m \u001b[0mTweepError\u001b[0m\u001b[1;33m(\u001b[0m\u001b[0merror_msg\u001b[0m\u001b[1;33m,\u001b[0m \u001b[0mresp\u001b[0m\u001b[1;33m)\u001b[0m\u001b[1;33m\u001b[0m\u001b[0m\n\u001b[0m\u001b[0;32m    228\u001b[0m \u001b[1;33m\u001b[0m\u001b[0m\n\u001b[0;32m    229\u001b[0m             \u001b[1;31m# Parse the response payload\u001b[0m\u001b[1;33m\u001b[0m\u001b[1;33m\u001b[0m\u001b[0m\n",
      "\u001b[1;31mTweepError\u001b[0m: {\"errors\":[{\"message\":\"Rate limit exceeded\",\"code\":88}]}"
     ]
    }
   ],
   "source": [
    "tweets = buscaTweetsPorTerminosYFechas('elmundoes',['ciudadanos'],\"2015-12-07\",\"2015-12-08\" )\n",
    "print(len(tweets))"
   ]
  },
  {
   "cell_type": "code",
   "execution_count": 15,
   "metadata": {
    "collapsed": false
   },
   "outputs": [
    {
     "name": "stdout",
     "output_type": "stream",
     "text": [
      "[(datetime.datetime(2015, 12, 7, 23, 47, 32), u'Andresss2308', u'@ElMundoEnVivo @elmundoes Soraya los atendi\\xf3. Rivera muy bien si no existiera el revoltoso Iglesias votar\\xeda ciudadanos. Mi voto PP'), (datetime.datetime(2015, 12, 7, 20, 40, 42), u'ERMNoticias', u\"'Esto es el fin de la ruina y las mentiras en Venezuela': Los ciudadanos venezolanos reci... https://t.co/IsuH1Q19Ih #ERMmedia @elmundoes\"), (datetime.datetime(2015, 12, 7, 20, 40, 39), u'LuisRosarioM', u\"'Esto es el fin de la ruina y las mentiras en Venezuela': Los ciudadanos venezolanos reci... https://t.co/roAfDRo8Zu #ERMmedia @elmundoes\"), (datetime.datetime(2015, 12, 7, 20, 26, 51), u'EFEmolina', u\"RT @elmundoes: Pedro S\\xe1nchez ofrecer\\xe1 a Ciudadanos y Podemos un pacto 'anti PP' aunque pierda https://t.co/uJc4eyODau https://t.co/xIKSjaLA\\u2026\"), (datetime.datetime(2015, 12, 7, 20, 22, 49), u'lolaq20', u'Ciudadanos financiar\\xe1 la campa\\xf1a con un cr\\xe9dito del Banco Popular de 4 millones https://t.co/b2qXparGCu v\\xeda @elmundoes'), (datetime.datetime(2015, 12, 7, 18, 0, 58), u'Jbelli59', u'@elisamonachil @elmundoes y para colmo lo mas duro es lo de ciudadanos con el royo de la responsabilidad apoyando mas de lo mismo los listos'), (datetime.datetime(2015, 12, 7, 17, 59, 11), u'Albert__MV', u\"Ciudadanos pone en marcha un 'crowdfunding': por 500\\u20ac puedes ser por un d\\xeda dirigente de Albert Rivera \\nhttps://t.co/rL9FzYUEMd  @elmundoes\"), (datetime.datetime(2015, 12, 7, 17, 58, 15), u'Jbelli59', u'@elisamonachil @elmundoes lo que es una pena para el resto de ciudadanos que estamos hartos de que nos gobiernen en Andaluc\\xeda los sociolisto'), (datetime.datetime(2015, 12, 7, 17, 56, 56), u'rosalia_agudin', u\"Ciudadanos pone en marcha un 'crowdfunding': por 500 euros puedes ser por un d\\xeda dirigente de Rivera https://t.co/aDeLwsf9po v\\xeda @elmundoes\"), (datetime.datetime(2015, 12, 7, 17, 55, 13), u'_raulpina_', u\"Ciudadanos inicia un 'crowdfunding': por 500\\u20ac puedes ser por un d\\xeda 'dirigente' de Albert Rivera https://t.co/e7I3faDyLX v\\xeda @elmundoes\"), (datetime.datetime(2015, 12, 7, 17, 43, 37), u'alvaromc27', u'@elmundoes cuando en este pa\\xeds los ciudadanos elegiremos directament a nuestros presidentes o alcaldes  y no los partidos pol\\xedticos'), (datetime.datetime(2015, 12, 7, 17, 34, 39), u'vaviol', u\"Ciudadanos pone en marcha un 'crowdfunding': por 500 \\u20ac puedes ser por 1 d\\xeda dirigente d Albert Rivera https://t.co/bb3PnS8iIO v\\xeda @elmundoes\"), (datetime.datetime(2015, 12, 7, 17, 32, 47), u'idearepuntoes', u\"Ciudadanos pone en marcha un 'crowdfunding':  https://t.co/GW15Mt0tpo v\\xeda @elmundoes\"), (datetime.datetime(2015, 12, 7, 17, 15, 4), u'Nuk_Nuik221', u'Reconozco que, aunque no sea fan de Ciudadanos, apoyo por completo el #YoTambienEstoyFondona  https://t.co/11n5umfxU4'), (datetime.datetime(2015, 12, 7, 16, 37, 9), u'elmundoes', u\"RT @ElMundoEspana: El 'crowdfunding' de Ciudadanos: por 500 euros puedes ser por un d\\xeda dirigente de Rivera  https://t.co/Nj8tvOfltk https:\\u2026\"), (datetime.datetime(2015, 12, 7, 16, 35, 57), u'Fernand76431025', u'@Inaki_Gil @elmundoes Me preocupa mucho que alguien que utiliza m\\xe1s las entra\\xf1as que el cerebro apoye a Ciudadanos'), (datetime.datetime(2015, 12, 7, 15, 56, 24), u'mariade73094493', u'@CiudadanosCs @Albert_Rivera @elmundoes Aaarriba ciudadanos!.\\nCatalu\\xf1a adelante!. https://t.co/Bpo0VE2J4O'), (datetime.datetime(2015, 12, 7, 13, 57, 41), u'inmapefe97', u'Ciudadanos financiar\\xe1 la campa\\xf1a con un cr\\xe9dito del Banco Popular de 4 millones https://t.co/I1gJ3aUkC3 v\\xeda @elmundoes'), (datetime.datetime(2015, 12, 7, 13, 30, 11), u'EspanaNaranja', u'@Yo_Ciudadanos @luciohergar \\n\\xa1\\xa1Menudo par de narices que echan!!\\n@Albert_Rivera @CsMadFuencarral @elmundoes @elpais_espana @abc @larazon_es'), (datetime.datetime(2015, 12, 7, 12, 42, 10), u'elmundomalaga', u\"Moreno Bonilla (PP): 'Ciudadanos ha sustentado en Andaluc\\xeda al gobierno de siempre' https://t.co/OHkFHVkvX9 v\\xeda @elmundoes\"), (datetime.datetime(2015, 12, 7, 10, 36), u'Cs_Argamasilla', u\"#ciudadanos Rivera: 'Si quedo segundo, yo ser\\xe9 el l\\xedder de la oposici\\xf3n' https://t.co/q3XFV352D0 v\\xeda @elmundoes\"), (datetime.datetime(2015, 12, 7, 10, 21, 31), u'MariaGilVitoria', u'Todos contra Ciudadanos https://t.co/2I9SkuEQC4 v\\xeda @elmundoes'), (datetime.datetime(2015, 12, 7, 10, 1, 29), u'elmundopv', u'Todos contra Ciudadanos https://t.co/fJeI81d8to v\\xeda @elmundoes'), (datetime.datetime(2015, 12, 7, 10, 0, 39), u'CsCiudadLineal', u\".@Albert_Rivera 'Si quedo segundo, yo ser\\xe9 el l\\xedder de la oposici\\xf3n' https://t.co/vnu01NHiAf v\\xeda @elmundoes #Ciudadanos\"), (datetime.datetime(2015, 12, 7, 9, 54, 35), u'CsAzuaga', u\".@Albert_Rivera : 'Vamos a ganar a Mas en las urnas por primera vez' #Ciudadanos  https://t.co/FrmB1kk5h8 v\\xeda @elmundoes\"), (datetime.datetime(2015, 12, 7, 8, 0, 42), u'alvarotrece', u'Me alegro d la derrota de Maduro pero en cu\\xe1ntas dictaduras los ciudadanos pueden dar una paliza as\\xed al gobierno?\\n https://t.co/86F6q3MaA1'), (datetime.datetime(2015, 12, 7, 7, 45, 41), u'bmazo', u'Esto debe cambiar @Ciudadanos\\nhttps://t.co/fLJ4Bn1uJs v\\xeda @elmundoes'), (datetime.datetime(2015, 12, 7, 7, 22, 4), u'anslorente', u'El @PPopular baja y @CiudadanosCs sube. Ciudadanos desgasta al PP en sus comunidades https://t.co/1SZr3RqnOy v\\xeda @elmundoes')]\n"
     ]
    }
   ],
   "source": [
    "print(tweets)"
   ]
  },
  {
   "cell_type": "code",
   "execution_count": 42,
   "metadata": {
    "collapsed": true
   },
   "outputs": [
    {
     "ename": "TweepError",
     "evalue": "{\"errors\":[{\"message\":\"Rate limit exceeded\",\"code\":88}]}",
     "output_type": "error",
     "traceback": [
      "\u001b[1;31m---------------------------------------------------------------------------\u001b[0m",
      "\u001b[1;31mTweepError\u001b[0m                                Traceback (most recent call last)",
      "\u001b[1;32m<ipython-input-42-1fdba0cda0d7>\u001b[0m in \u001b[0;36m<module>\u001b[1;34m()\u001b[0m\n\u001b[0;32m      1\u001b[0m \u001b[1;31m# ¿Cuantos tweets generan en un dia los tres periodicos (abc, el pais y el mundo) que sigue raspbebot?\u001b[0m\u001b[1;33m\u001b[0m\u001b[1;33m\u001b[0m\u001b[0m\n\u001b[0;32m      2\u001b[0m \u001b[0mtweets\u001b[0m \u001b[1;33m=\u001b[0m \u001b[1;33m[\u001b[0m\u001b[1;33m]\u001b[0m\u001b[1;33m\u001b[0m\u001b[0m\n\u001b[1;32m----> 3\u001b[1;33m \u001b[1;32mfor\u001b[0m \u001b[0mtweet\u001b[0m \u001b[1;32min\u001b[0m \u001b[0mtweepy\u001b[0m\u001b[1;33m.\u001b[0m\u001b[0mCursor\u001b[0m\u001b[1;33m(\u001b[0m\u001b[0mapi\u001b[0m\u001b[1;33m.\u001b[0m\u001b[0mhome_timeline\u001b[0m\u001b[1;33m,\u001b[0m \u001b[0msince\u001b[0m\u001b[1;33m=\u001b[0m\u001b[1;34m\"2015-12-06\"\u001b[0m\u001b[1;33m,\u001b[0m \u001b[0muntil\u001b[0m\u001b[1;33m=\u001b[0m\u001b[1;34m\"2015-12-07\"\u001b[0m\u001b[1;33m)\u001b[0m\u001b[1;33m.\u001b[0m\u001b[0mitems\u001b[0m\u001b[1;33m(\u001b[0m\u001b[1;33m)\u001b[0m\u001b[1;33m:\u001b[0m\u001b[1;33m\u001b[0m\u001b[0m\n\u001b[0m\u001b[0;32m      4\u001b[0m     \u001b[0mtweets\u001b[0m\u001b[1;33m.\u001b[0m\u001b[0mappend\u001b[0m\u001b[1;33m(\u001b[0m\u001b[0mtweet\u001b[0m\u001b[1;33m)\u001b[0m\u001b[1;33m\u001b[0m\u001b[0m\n\u001b[0;32m      5\u001b[0m \u001b[1;33m\u001b[0m\u001b[0m\n",
      "\u001b[1;32m/home/dj/anaconda3/envs/py2/lib/python2.7/site-packages/tweepy/cursor.pyc\u001b[0m in \u001b[0;36mnext\u001b[1;34m(self)\u001b[0m\n\u001b[0;32m    195\u001b[0m         \u001b[1;32mif\u001b[0m \u001b[0mself\u001b[0m\u001b[1;33m.\u001b[0m\u001b[0mcurrent_page\u001b[0m \u001b[1;32mis\u001b[0m \u001b[0mNone\u001b[0m \u001b[1;32mor\u001b[0m \u001b[0mself\u001b[0m\u001b[1;33m.\u001b[0m\u001b[0mpage_index\u001b[0m \u001b[1;33m==\u001b[0m \u001b[0mlen\u001b[0m\u001b[1;33m(\u001b[0m\u001b[0mself\u001b[0m\u001b[1;33m.\u001b[0m\u001b[0mcurrent_page\u001b[0m\u001b[1;33m)\u001b[0m \u001b[1;33m-\u001b[0m \u001b[1;36m1\u001b[0m\u001b[1;33m:\u001b[0m\u001b[1;33m\u001b[0m\u001b[0m\n\u001b[0;32m    196\u001b[0m             \u001b[1;31m# Reached end of current page, get the next page...\u001b[0m\u001b[1;33m\u001b[0m\u001b[1;33m\u001b[0m\u001b[0m\n\u001b[1;32m--> 197\u001b[1;33m             \u001b[0mself\u001b[0m\u001b[1;33m.\u001b[0m\u001b[0mcurrent_page\u001b[0m \u001b[1;33m=\u001b[0m \u001b[0mself\u001b[0m\u001b[1;33m.\u001b[0m\u001b[0mpage_iterator\u001b[0m\u001b[1;33m.\u001b[0m\u001b[0mnext\u001b[0m\u001b[1;33m(\u001b[0m\u001b[1;33m)\u001b[0m\u001b[1;33m\u001b[0m\u001b[0m\n\u001b[0m\u001b[0;32m    198\u001b[0m             \u001b[0mself\u001b[0m\u001b[1;33m.\u001b[0m\u001b[0mpage_index\u001b[0m \u001b[1;33m=\u001b[0m \u001b[1;33m-\u001b[0m\u001b[1;36m1\u001b[0m\u001b[1;33m\u001b[0m\u001b[0m\n\u001b[0;32m    199\u001b[0m         \u001b[0mself\u001b[0m\u001b[1;33m.\u001b[0m\u001b[0mpage_index\u001b[0m \u001b[1;33m+=\u001b[0m \u001b[1;36m1\u001b[0m\u001b[1;33m\u001b[0m\u001b[0m\n",
      "\u001b[1;32m/home/dj/anaconda3/envs/py2/lib/python2.7/site-packages/tweepy/cursor.pyc\u001b[0m in \u001b[0;36mnext\u001b[1;34m(self)\u001b[0m\n\u001b[0;32m    106\u001b[0m \u001b[1;33m\u001b[0m\u001b[0m\n\u001b[0;32m    107\u001b[0m         \u001b[1;32mif\u001b[0m \u001b[0mself\u001b[0m\u001b[1;33m.\u001b[0m\u001b[0mindex\u001b[0m \u001b[1;33m>=\u001b[0m \u001b[0mlen\u001b[0m\u001b[1;33m(\u001b[0m\u001b[0mself\u001b[0m\u001b[1;33m.\u001b[0m\u001b[0mresults\u001b[0m\u001b[1;33m)\u001b[0m \u001b[1;33m-\u001b[0m \u001b[1;36m1\u001b[0m\u001b[1;33m:\u001b[0m\u001b[1;33m\u001b[0m\u001b[0m\n\u001b[1;32m--> 108\u001b[1;33m             \u001b[0mdata\u001b[0m \u001b[1;33m=\u001b[0m \u001b[0mself\u001b[0m\u001b[1;33m.\u001b[0m\u001b[0mmethod\u001b[0m\u001b[1;33m(\u001b[0m\u001b[0mmax_id\u001b[0m\u001b[1;33m=\u001b[0m\u001b[0mself\u001b[0m\u001b[1;33m.\u001b[0m\u001b[0mmax_id\u001b[0m\u001b[1;33m,\u001b[0m \u001b[0mparser\u001b[0m\u001b[1;33m=\u001b[0m\u001b[0mRawParser\u001b[0m\u001b[1;33m(\u001b[0m\u001b[1;33m)\u001b[0m\u001b[1;33m,\u001b[0m \u001b[1;33m*\u001b[0m\u001b[0mself\u001b[0m\u001b[1;33m.\u001b[0m\u001b[0margs\u001b[0m\u001b[1;33m,\u001b[0m \u001b[1;33m**\u001b[0m\u001b[0mself\u001b[0m\u001b[1;33m.\u001b[0m\u001b[0mkargs\u001b[0m\u001b[1;33m)\u001b[0m\u001b[1;33m\u001b[0m\u001b[0m\n\u001b[0m\u001b[0;32m    109\u001b[0m \u001b[1;33m\u001b[0m\u001b[0m\n\u001b[0;32m    110\u001b[0m             \u001b[1;32mif\u001b[0m \u001b[0mhasattr\u001b[0m\u001b[1;33m(\u001b[0m\u001b[0mself\u001b[0m\u001b[1;33m.\u001b[0m\u001b[0mmethod\u001b[0m\u001b[1;33m,\u001b[0m \u001b[1;34m'__self__'\u001b[0m\u001b[1;33m)\u001b[0m\u001b[1;33m:\u001b[0m\u001b[1;33m\u001b[0m\u001b[0m\n",
      "\u001b[1;32m/home/dj/anaconda3/envs/py2/lib/python2.7/site-packages/tweepy/binder.pyc\u001b[0m in \u001b[0;36m_call\u001b[1;34m(*args, **kwargs)\u001b[0m\n\u001b[0;32m    241\u001b[0m             \u001b[1;32mreturn\u001b[0m \u001b[0mmethod\u001b[0m\u001b[1;33m\u001b[0m\u001b[0m\n\u001b[0;32m    242\u001b[0m         \u001b[1;32melse\u001b[0m\u001b[1;33m:\u001b[0m\u001b[1;33m\u001b[0m\u001b[0m\n\u001b[1;32m--> 243\u001b[1;33m             \u001b[1;32mreturn\u001b[0m \u001b[0mmethod\u001b[0m\u001b[1;33m.\u001b[0m\u001b[0mexecute\u001b[0m\u001b[1;33m(\u001b[0m\u001b[1;33m)\u001b[0m\u001b[1;33m\u001b[0m\u001b[0m\n\u001b[0m\u001b[0;32m    244\u001b[0m \u001b[1;33m\u001b[0m\u001b[0m\n\u001b[0;32m    245\u001b[0m     \u001b[1;31m# Set pagination mode\u001b[0m\u001b[1;33m\u001b[0m\u001b[1;33m\u001b[0m\u001b[0m\n",
      "\u001b[1;32m/home/dj/anaconda3/envs/py2/lib/python2.7/site-packages/tweepy/binder.pyc\u001b[0m in \u001b[0;36mexecute\u001b[1;34m(self)\u001b[0m\n\u001b[0;32m    225\u001b[0m                     \u001b[1;32mraise\u001b[0m \u001b[0mRateLimitError\u001b[0m\u001b[1;33m(\u001b[0m\u001b[0merror_msg\u001b[0m\u001b[1;33m,\u001b[0m \u001b[0mresp\u001b[0m\u001b[1;33m)\u001b[0m\u001b[1;33m\u001b[0m\u001b[0m\n\u001b[0;32m    226\u001b[0m                 \u001b[1;32melse\u001b[0m\u001b[1;33m:\u001b[0m\u001b[1;33m\u001b[0m\u001b[0m\n\u001b[1;32m--> 227\u001b[1;33m                     \u001b[1;32mraise\u001b[0m \u001b[0mTweepError\u001b[0m\u001b[1;33m(\u001b[0m\u001b[0merror_msg\u001b[0m\u001b[1;33m,\u001b[0m \u001b[0mresp\u001b[0m\u001b[1;33m)\u001b[0m\u001b[1;33m\u001b[0m\u001b[0m\n\u001b[0m\u001b[0;32m    228\u001b[0m \u001b[1;33m\u001b[0m\u001b[0m\n\u001b[0;32m    229\u001b[0m             \u001b[1;31m# Parse the response payload\u001b[0m\u001b[1;33m\u001b[0m\u001b[1;33m\u001b[0m\u001b[0m\n",
      "\u001b[1;31mTweepError\u001b[0m: {\"errors\":[{\"message\":\"Rate limit exceeded\",\"code\":88}]}"
     ]
    }
   ],
   "source": [
    "# ¿Cuantos tweets generan en un dia los tres periodicos (abc, el pais y el mundo) que sigue raspbebot?\n",
    "tweets = []\n",
    "for tweet in tweepy.Cursor(api.home_timeline, since=\"2015-12-06\", until=\"2015-12-07\").items():\n",
    "    tweets.append(tweet)\n",
    "\n",
    "print(len(tweets))"
   ]
  },
  {
   "cell_type": "code",
   "execution_count": 43,
   "metadata": {
    "collapsed": false
   },
   "outputs": [
    {
     "data": {
      "text/plain": [
       "272"
      ]
     },
     "execution_count": 43,
     "metadata": {},
     "output_type": "execute_result"
    }
   ],
   "source": [
    "len(tweets)"
   ]
  },
  {
   "cell_type": "code",
   "execution_count": 47,
   "metadata": {
    "collapsed": false
   },
   "outputs": [
    {
     "name": "stdout",
     "output_type": "stream",
     "text": [
      "[('2015-12-07 08:15:13', u'Catalu\\xf1a tribu a tribu https://t.co/eLYU2B22jM Por Salvador Sostres'), ('2015-12-07 08:10:52', u'RT @elpais_inter: Triunfo de la oposici\\xf3n en las elecciones: Venezuela da la espalda al chavismo 17 a\\xf1os despu\\xe9s https://t.co/YZVwk1dWa2 Po\\u2026'), ('2015-12-07 08:10:14', u'RT @ElMundoEnVivo: Europa despierta con el triunfo de la oposici\\xf3n en #Venezuela y llegan las primeras reacciones.  https://t.co/PQdDlhuD94'), ('2015-12-07 08:09:20', u'Lo viejo de la pol\\xedtica espa\\xf1ola es para llorar, dice @JohnCarlin5, aunque hay razones para alegrarse https://t.co/JCGvewpPX2'), ('2015-12-07 08:05:07', u'Iglesias: \\xabAhora que otros se quitan las corbatas quiz\\xe1s es hora de que yo me la ponga\\xbb https://t.co/TtR9nJg8Ic https://t.co/3lSAwItgJ1'), ('2015-12-07 08:03:31', u'RT @elpais_opinion: \\xbfHabr\\xe1 pel\\xedculas de superh\\xe9roes despu\\xe9s de los pr\\xf3ximos cinco a\\xf1os? \\xbfO ser\\xe1n de h\\xe9roes a secas? \\xbfQu\\xe9 dice Spielberg? ht\\u2026'), ('2015-12-07 08:02:16', u'Puede que te hayas levantado sin tener muy claro si es fiesta en tu comunidad o no. Consulta el calendario laboral https://t.co/iIKdi1ifTn'), ('2015-12-07 08:02:06', u'RT @ElMundoEconomia: El informe de la #OMS que asociaba la carne con el c\\xe1ncer hundi\\xf3 las ventas casi un 10% https://t.co/B16R07Lr3t https:\\u2026'), ('2015-12-07 07:55:04', u'Radiograf\\xeda del hundimiento de la #Venezuela chavista https://t.co/ZBixA0Iby8 Por @fj_calero https://t.co/acNs01441o'), ('2015-12-07 07:54:49', u'\\xbfLa derrota de Maduro en #Venezuela traer\\xe1 un cambio de rumbo pol\\xedtico en Latinoam\\xe9rica? https://t.co/NxHDo28Z3c')]\n"
     ]
    }
   ],
   "source": [
    "print([(str(tweet.created_at),tweet.text) for tweet in tweets][-10:])"
   ]
  },
  {
   "cell_type": "markdown",
   "metadata": {},
   "source": [
    "## Probando la libreria para streaming de tweets"
   ]
  },
  {
   "cell_type": "code",
   "execution_count": null,
   "metadata": {
    "collapsed": false
   },
   "outputs": [],
   "source": [
    "#Import the necessary methods from tweepy library\n",
    "from tweepy.streaming import StreamListener\n",
    "from tweepy import OAuthHandler\n",
    "from tweepy import Stream\n",
    "import ConfigParser\n",
    "\n",
    "config = ConfigParser.ConfigParser()\n",
    "config.read('datosCuentaTwitter.ini')\n",
    "\n",
    "APP_KEY = config.get('DatosTwitter','APP_KEY')\n",
    "APP_SECRET = config.get('DatosTwitter','APP_SECRET')\n",
    "OAUTH_TOKEN = config.get('DatosTwitter','OAUTH_TOKEN')\n",
    "OAUTH_TOKEN_SECRET = config.get('DatosTwitter','OAUTH_TOKEN_SECRET')\n",
    "\n",
    "\n",
    "class MyListener(StreamListener):\n",
    " \n",
    "     ### ATENCION !!! Funcion desactualizada !!!!!\n",
    "     ### Mirar codigo mas abajo para una version buena\n",
    "    def on_data(self, data):  \n",
    "        try:\n",
    "            with open('python.json', 'a') as f:\n",
    "                print(data)\n",
    "                f.write(data)\n",
    "                return True\n",
    "        except BaseException as e:\n",
    "            print(\"Error on_data: %s\" % str(e))\n",
    "        return True\n",
    " \n",
    "    def on_error(self, status):\n",
    "        print(status)\n",
    "        return True\n",
    "\n",
    "auth = tweepy.OAuthHandler(APP_KEY, APP_SECRET)\n",
    "auth.set_access_token(OAUTH_TOKEN, OAUTH_TOKEN_SECRET)\n",
    "    \n",
    "twitter_stream = Stream(auth, MyListener())\n",
    "twitter_stream.filter(track=['kevin'])"
   ]
  },
  {
   "cell_type": "code",
   "execution_count": 29,
   "metadata": {
    "collapsed": false
   },
   "outputs": [
    {
     "name": "stdout",
     "output_type": "stream",
     "text": [
      "2015-12-08 10:42:54\n",
      "raspbebot\n",
      "Iglesias Rivera\n",
      " * * * * * * * * * * * * * * * * * * * * * * * * * * * * * * * * * * * * * * * *\n"
     ]
    },
    {
     "ename": "KeyboardInterrupt",
     "evalue": "",
     "output_type": "error",
     "traceback": [
      "\u001b[1;31m---------------------------------------------------------------------------\u001b[0m",
      "\u001b[1;31mKeyboardInterrupt\u001b[0m                         Traceback (most recent call last)",
      "\u001b[1;32m<ipython-input-29-1be3c0ec1486>\u001b[0m in \u001b[0;36m<module>\u001b[1;34m()\u001b[0m\n\u001b[0;32m     43\u001b[0m                       follow=[periodicos['elmundo'], periodicos['elpais'],periodicos['abc'],periodicos['larazon'], \n\u001b[0;32m     44\u001b[0m                               \u001b[0mperiodicos\u001b[0m\u001b[1;33m[\u001b[0m\u001b[1;34m'eldiarioes'\u001b[0m\u001b[1;33m]\u001b[0m\u001b[1;33m,\u001b[0m \u001b[0mperiodicos\u001b[0m\u001b[1;33m[\u001b[0m\u001b[1;34m'LaVanguardia'\u001b[0m\u001b[1;33m]\u001b[0m\u001b[1;33m,\u001b[0m\u001b[0mperiodicos\u001b[0m\u001b[1;33m[\u001b[0m\u001b[1;34m'publico'\u001b[0m\u001b[1;33m]\u001b[0m\u001b[1;33m,\u001b[0m\u001b[1;33m\u001b[0m\u001b[0m\n\u001b[1;32m---> 45\u001b[1;33m                               periodicos['20minutos'],periodicos['raspbebot']] ) \n\u001b[0m\u001b[0;32m     46\u001b[0m \u001b[1;33m\u001b[0m\u001b[0m\n\u001b[0;32m     47\u001b[0m \u001b[1;33m\u001b[0m\u001b[0m\n",
      "\u001b[1;32m/home/dj/anaconda3/envs/py2/lib/python2.7/site-packages/tweepy/streaming.pyc\u001b[0m in \u001b[0;36mfilter\u001b[1;34m(self, follow, track, async, locations, stall_warnings, languages, encoding, filter_level)\u001b[0m\n\u001b[0;32m    428\u001b[0m         \u001b[0mself\u001b[0m\u001b[1;33m.\u001b[0m\u001b[0msession\u001b[0m\u001b[1;33m.\u001b[0m\u001b[0mparams\u001b[0m \u001b[1;33m=\u001b[0m \u001b[1;33m{\u001b[0m\u001b[1;34m'delimited'\u001b[0m\u001b[1;33m:\u001b[0m \u001b[1;34m'length'\u001b[0m\u001b[1;33m}\u001b[0m\u001b[1;33m\u001b[0m\u001b[0m\n\u001b[0;32m    429\u001b[0m         \u001b[0mself\u001b[0m\u001b[1;33m.\u001b[0m\u001b[0mhost\u001b[0m \u001b[1;33m=\u001b[0m \u001b[1;34m'stream.twitter.com'\u001b[0m\u001b[1;33m\u001b[0m\u001b[0m\n\u001b[1;32m--> 430\u001b[1;33m         \u001b[0mself\u001b[0m\u001b[1;33m.\u001b[0m\u001b[0m_start\u001b[0m\u001b[1;33m(\u001b[0m\u001b[0masync\u001b[0m\u001b[1;33m)\u001b[0m\u001b[1;33m\u001b[0m\u001b[0m\n\u001b[0m\u001b[0;32m    431\u001b[0m \u001b[1;33m\u001b[0m\u001b[0m\n\u001b[0;32m    432\u001b[0m     def sitestream(self, follow, stall_warnings=False,\n",
      "\u001b[1;32m/home/dj/anaconda3/envs/py2/lib/python2.7/site-packages/tweepy/streaming.pyc\u001b[0m in \u001b[0;36m_start\u001b[1;34m(self, async)\u001b[0m\n\u001b[0;32m    344\u001b[0m             \u001b[0mself\u001b[0m\u001b[1;33m.\u001b[0m\u001b[0m_thread\u001b[0m\u001b[1;33m.\u001b[0m\u001b[0mstart\u001b[0m\u001b[1;33m(\u001b[0m\u001b[1;33m)\u001b[0m\u001b[1;33m\u001b[0m\u001b[0m\n\u001b[0;32m    345\u001b[0m         \u001b[1;32melse\u001b[0m\u001b[1;33m:\u001b[0m\u001b[1;33m\u001b[0m\u001b[0m\n\u001b[1;32m--> 346\u001b[1;33m             \u001b[0mself\u001b[0m\u001b[1;33m.\u001b[0m\u001b[0m_run\u001b[0m\u001b[1;33m(\u001b[0m\u001b[1;33m)\u001b[0m\u001b[1;33m\u001b[0m\u001b[0m\n\u001b[0m\u001b[0;32m    347\u001b[0m \u001b[1;33m\u001b[0m\u001b[0m\n\u001b[0;32m    348\u001b[0m     \u001b[1;32mdef\u001b[0m \u001b[0mon_closed\u001b[0m\u001b[1;33m(\u001b[0m\u001b[0mself\u001b[0m\u001b[1;33m,\u001b[0m \u001b[0mresp\u001b[0m\u001b[1;33m)\u001b[0m\u001b[1;33m:\u001b[0m\u001b[1;33m\u001b[0m\u001b[0m\n",
      "\u001b[1;32m/home/dj/anaconda3/envs/py2/lib/python2.7/site-packages/tweepy/streaming.pyc\u001b[0m in \u001b[0;36m_run\u001b[1;34m(self)\u001b[0m\n\u001b[0;32m    253\u001b[0m                     \u001b[0mself\u001b[0m\u001b[1;33m.\u001b[0m\u001b[0msnooze_time\u001b[0m \u001b[1;33m=\u001b[0m \u001b[0mself\u001b[0m\u001b[1;33m.\u001b[0m\u001b[0msnooze_time_step\u001b[0m\u001b[1;33m\u001b[0m\u001b[0m\n\u001b[0;32m    254\u001b[0m                     \u001b[0mself\u001b[0m\u001b[1;33m.\u001b[0m\u001b[0mlistener\u001b[0m\u001b[1;33m.\u001b[0m\u001b[0mon_connect\u001b[0m\u001b[1;33m(\u001b[0m\u001b[1;33m)\u001b[0m\u001b[1;33m\u001b[0m\u001b[0m\n\u001b[1;32m--> 255\u001b[1;33m                     \u001b[0mself\u001b[0m\u001b[1;33m.\u001b[0m\u001b[0m_read_loop\u001b[0m\u001b[1;33m(\u001b[0m\u001b[0mresp\u001b[0m\u001b[1;33m)\u001b[0m\u001b[1;33m\u001b[0m\u001b[0m\n\u001b[0m\u001b[0;32m    256\u001b[0m             \u001b[1;32mexcept\u001b[0m \u001b[1;33m(\u001b[0m\u001b[0mTimeout\u001b[0m\u001b[1;33m,\u001b[0m \u001b[0mssl\u001b[0m\u001b[1;33m.\u001b[0m\u001b[0mSSLError\u001b[0m\u001b[1;33m)\u001b[0m \u001b[1;32mas\u001b[0m \u001b[0mexc\u001b[0m\u001b[1;33m:\u001b[0m\u001b[1;33m\u001b[0m\u001b[0m\n\u001b[0;32m    257\u001b[0m                 \u001b[1;31m# This is still necessary, as a SSLError can actually be\u001b[0m\u001b[1;33m\u001b[0m\u001b[1;33m\u001b[0m\u001b[0m\n",
      "\u001b[1;32m/home/dj/anaconda3/envs/py2/lib/python2.7/site-packages/tweepy/streaming.pyc\u001b[0m in \u001b[0;36m_read_loop\u001b[1;34m(self, resp)\u001b[0m\n\u001b[0;32m    305\u001b[0m                     \u001b[1;32mraise\u001b[0m \u001b[0mTweepError\u001b[0m\u001b[1;33m(\u001b[0m\u001b[1;34m'Expecting length, unexpected value found'\u001b[0m\u001b[1;33m)\u001b[0m\u001b[1;33m\u001b[0m\u001b[0m\n\u001b[0;32m    306\u001b[0m \u001b[1;33m\u001b[0m\u001b[0m\n\u001b[1;32m--> 307\u001b[1;33m             \u001b[0mnext_status_obj\u001b[0m \u001b[1;33m=\u001b[0m \u001b[0mbuf\u001b[0m\u001b[1;33m.\u001b[0m\u001b[0mread_len\u001b[0m\u001b[1;33m(\u001b[0m\u001b[0mlength\u001b[0m\u001b[1;33m)\u001b[0m\u001b[1;33m\u001b[0m\u001b[0m\n\u001b[0m\u001b[0;32m    308\u001b[0m             \u001b[1;32mif\u001b[0m \u001b[0mself\u001b[0m\u001b[1;33m.\u001b[0m\u001b[0mrunning\u001b[0m\u001b[1;33m:\u001b[0m\u001b[1;33m\u001b[0m\u001b[0m\n\u001b[0;32m    309\u001b[0m                 \u001b[0mself\u001b[0m\u001b[1;33m.\u001b[0m\u001b[0m_data\u001b[0m\u001b[1;33m(\u001b[0m\u001b[0mnext_status_obj\u001b[0m\u001b[1;33m)\u001b[0m\u001b[1;33m\u001b[0m\u001b[0m\n",
      "\u001b[1;32m/home/dj/anaconda3/envs/py2/lib/python2.7/site-packages/tweepy/streaming.pyc\u001b[0m in \u001b[0;36mread_len\u001b[1;34m(self, length)\u001b[0m\n\u001b[0;32m    159\u001b[0m                 \u001b[1;32mreturn\u001b[0m \u001b[0mself\u001b[0m\u001b[1;33m.\u001b[0m\u001b[0m_pop\u001b[0m\u001b[1;33m(\u001b[0m\u001b[0mlength\u001b[0m\u001b[1;33m)\u001b[0m\u001b[1;33m\u001b[0m\u001b[0m\n\u001b[0;32m    160\u001b[0m             \u001b[0mread_len\u001b[0m \u001b[1;33m=\u001b[0m \u001b[0mmax\u001b[0m\u001b[1;33m(\u001b[0m\u001b[0mself\u001b[0m\u001b[1;33m.\u001b[0m\u001b[0m_chunk_size\u001b[0m\u001b[1;33m,\u001b[0m \u001b[0mlength\u001b[0m \u001b[1;33m-\u001b[0m \u001b[0mlen\u001b[0m\u001b[1;33m(\u001b[0m\u001b[0mself\u001b[0m\u001b[1;33m.\u001b[0m\u001b[0m_buffer\u001b[0m\u001b[1;33m)\u001b[0m\u001b[1;33m)\u001b[0m\u001b[1;33m\u001b[0m\u001b[0m\n\u001b[1;32m--> 161\u001b[1;33m             \u001b[0mself\u001b[0m\u001b[1;33m.\u001b[0m\u001b[0m_buffer\u001b[0m \u001b[1;33m+=\u001b[0m \u001b[0mself\u001b[0m\u001b[1;33m.\u001b[0m\u001b[0m_stream\u001b[0m\u001b[1;33m.\u001b[0m\u001b[0mread\u001b[0m\u001b[1;33m(\u001b[0m\u001b[0mread_len\u001b[0m\u001b[1;33m)\u001b[0m\u001b[1;33m\u001b[0m\u001b[0m\n\u001b[0m\u001b[0;32m    162\u001b[0m \u001b[1;33m\u001b[0m\u001b[0m\n\u001b[0;32m    163\u001b[0m     \u001b[1;32mdef\u001b[0m \u001b[0mread_line\u001b[0m\u001b[1;33m(\u001b[0m\u001b[0mself\u001b[0m\u001b[1;33m,\u001b[0m \u001b[0msep\u001b[0m\u001b[1;33m=\u001b[0m\u001b[1;34m'\\n'\u001b[0m\u001b[1;33m)\u001b[0m\u001b[1;33m:\u001b[0m\u001b[1;33m\u001b[0m\u001b[0m\n",
      "\u001b[1;32m/home/dj/anaconda3/envs/py2/lib/python2.7/site-packages/requests/packages/urllib3/response.pyc\u001b[0m in \u001b[0;36mread\u001b[1;34m(self, amt, decode_content, cache_content)\u001b[0m\n\u001b[0;32m    280\u001b[0m             \u001b[1;32melse\u001b[0m\u001b[1;33m:\u001b[0m\u001b[1;33m\u001b[0m\u001b[0m\n\u001b[0;32m    281\u001b[0m                 \u001b[0mcache_content\u001b[0m \u001b[1;33m=\u001b[0m \u001b[0mFalse\u001b[0m\u001b[1;33m\u001b[0m\u001b[0m\n\u001b[1;32m--> 282\u001b[1;33m                 \u001b[0mdata\u001b[0m \u001b[1;33m=\u001b[0m \u001b[0mself\u001b[0m\u001b[1;33m.\u001b[0m\u001b[0m_fp\u001b[0m\u001b[1;33m.\u001b[0m\u001b[0mread\u001b[0m\u001b[1;33m(\u001b[0m\u001b[0mamt\u001b[0m\u001b[1;33m)\u001b[0m\u001b[1;33m\u001b[0m\u001b[0m\n\u001b[0m\u001b[0;32m    283\u001b[0m                 \u001b[1;32mif\u001b[0m \u001b[0mamt\u001b[0m \u001b[1;33m!=\u001b[0m \u001b[1;36m0\u001b[0m \u001b[1;32mand\u001b[0m \u001b[1;32mnot\u001b[0m \u001b[0mdata\u001b[0m\u001b[1;33m:\u001b[0m  \u001b[1;31m# Platform-specific: Buggy versions of Python.\u001b[0m\u001b[1;33m\u001b[0m\u001b[0m\n\u001b[0;32m    284\u001b[0m                     \u001b[1;31m# Close the connection when no data is returned\u001b[0m\u001b[1;33m\u001b[0m\u001b[1;33m\u001b[0m\u001b[0m\n",
      "\u001b[1;32m/home/dj/anaconda3/envs/py2/lib/python2.7/httplib.pyc\u001b[0m in \u001b[0;36mread\u001b[1;34m(self, amt)\u001b[0m\n\u001b[0;32m    586\u001b[0m \u001b[1;33m\u001b[0m\u001b[0m\n\u001b[0;32m    587\u001b[0m         \u001b[1;32mif\u001b[0m \u001b[0mself\u001b[0m\u001b[1;33m.\u001b[0m\u001b[0mchunked\u001b[0m\u001b[1;33m:\u001b[0m\u001b[1;33m\u001b[0m\u001b[0m\n\u001b[1;32m--> 588\u001b[1;33m             \u001b[1;32mreturn\u001b[0m \u001b[0mself\u001b[0m\u001b[1;33m.\u001b[0m\u001b[0m_read_chunked\u001b[0m\u001b[1;33m(\u001b[0m\u001b[0mamt\u001b[0m\u001b[1;33m)\u001b[0m\u001b[1;33m\u001b[0m\u001b[0m\n\u001b[0m\u001b[0;32m    589\u001b[0m \u001b[1;33m\u001b[0m\u001b[0m\n\u001b[0;32m    590\u001b[0m         \u001b[1;32mif\u001b[0m \u001b[0mamt\u001b[0m \u001b[1;32mis\u001b[0m \u001b[0mNone\u001b[0m\u001b[1;33m:\u001b[0m\u001b[1;33m\u001b[0m\u001b[0m\n",
      "\u001b[1;32m/home/dj/anaconda3/envs/py2/lib/python2.7/httplib.pyc\u001b[0m in \u001b[0;36m_read_chunked\u001b[1;34m(self, amt)\u001b[0m\n\u001b[0;32m    655\u001b[0m                 \u001b[1;32mreturn\u001b[0m \u001b[1;34m''\u001b[0m\u001b[1;33m.\u001b[0m\u001b[0mjoin\u001b[0m\u001b[1;33m(\u001b[0m\u001b[0mvalue\u001b[0m\u001b[1;33m)\u001b[0m\u001b[1;33m\u001b[0m\u001b[0m\n\u001b[0;32m    656\u001b[0m             \u001b[1;32melse\u001b[0m\u001b[1;33m:\u001b[0m\u001b[1;33m\u001b[0m\u001b[0m\n\u001b[1;32m--> 657\u001b[1;33m                 \u001b[0mvalue\u001b[0m\u001b[1;33m.\u001b[0m\u001b[0mappend\u001b[0m\u001b[1;33m(\u001b[0m\u001b[0mself\u001b[0m\u001b[1;33m.\u001b[0m\u001b[0m_safe_read\u001b[0m\u001b[1;33m(\u001b[0m\u001b[0mchunk_left\u001b[0m\u001b[1;33m)\u001b[0m\u001b[1;33m)\u001b[0m\u001b[1;33m\u001b[0m\u001b[0m\n\u001b[0m\u001b[0;32m    658\u001b[0m                 \u001b[0mamt\u001b[0m \u001b[1;33m-=\u001b[0m \u001b[0mchunk_left\u001b[0m\u001b[1;33m\u001b[0m\u001b[0m\n\u001b[0;32m    659\u001b[0m \u001b[1;33m\u001b[0m\u001b[0m\n",
      "\u001b[1;32m/home/dj/anaconda3/envs/py2/lib/python2.7/httplib.pyc\u001b[0m in \u001b[0;36m_safe_read\u001b[1;34m(self, amt)\u001b[0m\n\u001b[0;32m    701\u001b[0m         \u001b[0ms\u001b[0m \u001b[1;33m=\u001b[0m \u001b[1;33m[\u001b[0m\u001b[1;33m]\u001b[0m\u001b[1;33m\u001b[0m\u001b[0m\n\u001b[0;32m    702\u001b[0m         \u001b[1;32mwhile\u001b[0m \u001b[0mamt\u001b[0m \u001b[1;33m>\u001b[0m \u001b[1;36m0\u001b[0m\u001b[1;33m:\u001b[0m\u001b[1;33m\u001b[0m\u001b[0m\n\u001b[1;32m--> 703\u001b[1;33m             \u001b[0mchunk\u001b[0m \u001b[1;33m=\u001b[0m \u001b[0mself\u001b[0m\u001b[1;33m.\u001b[0m\u001b[0mfp\u001b[0m\u001b[1;33m.\u001b[0m\u001b[0mread\u001b[0m\u001b[1;33m(\u001b[0m\u001b[0mmin\u001b[0m\u001b[1;33m(\u001b[0m\u001b[0mamt\u001b[0m\u001b[1;33m,\u001b[0m \u001b[0mMAXAMOUNT\u001b[0m\u001b[1;33m)\u001b[0m\u001b[1;33m)\u001b[0m\u001b[1;33m\u001b[0m\u001b[0m\n\u001b[0m\u001b[0;32m    704\u001b[0m             \u001b[1;32mif\u001b[0m \u001b[1;32mnot\u001b[0m \u001b[0mchunk\u001b[0m\u001b[1;33m:\u001b[0m\u001b[1;33m\u001b[0m\u001b[0m\n\u001b[0;32m    705\u001b[0m                 \u001b[1;32mraise\u001b[0m \u001b[0mIncompleteRead\u001b[0m\u001b[1;33m(\u001b[0m\u001b[1;34m''\u001b[0m\u001b[1;33m.\u001b[0m\u001b[0mjoin\u001b[0m\u001b[1;33m(\u001b[0m\u001b[0ms\u001b[0m\u001b[1;33m)\u001b[0m\u001b[1;33m,\u001b[0m \u001b[0mamt\u001b[0m\u001b[1;33m)\u001b[0m\u001b[1;33m\u001b[0m\u001b[0m\n",
      "\u001b[1;32m/home/dj/anaconda3/envs/py2/lib/python2.7/socket.pyc\u001b[0m in \u001b[0;36mread\u001b[1;34m(self, size)\u001b[0m\n\u001b[0;32m    382\u001b[0m                 \u001b[1;31m# fragmentation issues on many platforms.\u001b[0m\u001b[1;33m\u001b[0m\u001b[1;33m\u001b[0m\u001b[0m\n\u001b[0;32m    383\u001b[0m                 \u001b[1;32mtry\u001b[0m\u001b[1;33m:\u001b[0m\u001b[1;33m\u001b[0m\u001b[0m\n\u001b[1;32m--> 384\u001b[1;33m                     \u001b[0mdata\u001b[0m \u001b[1;33m=\u001b[0m \u001b[0mself\u001b[0m\u001b[1;33m.\u001b[0m\u001b[0m_sock\u001b[0m\u001b[1;33m.\u001b[0m\u001b[0mrecv\u001b[0m\u001b[1;33m(\u001b[0m\u001b[0mleft\u001b[0m\u001b[1;33m)\u001b[0m\u001b[1;33m\u001b[0m\u001b[0m\n\u001b[0m\u001b[0;32m    385\u001b[0m                 \u001b[1;32mexcept\u001b[0m \u001b[0merror\u001b[0m\u001b[1;33m,\u001b[0m \u001b[0me\u001b[0m\u001b[1;33m:\u001b[0m\u001b[1;33m\u001b[0m\u001b[0m\n\u001b[0;32m    386\u001b[0m                     \u001b[1;32mif\u001b[0m \u001b[0me\u001b[0m\u001b[1;33m.\u001b[0m\u001b[0margs\u001b[0m\u001b[1;33m[\u001b[0m\u001b[1;36m0\u001b[0m\u001b[1;33m]\u001b[0m \u001b[1;33m==\u001b[0m \u001b[0mEINTR\u001b[0m\u001b[1;33m:\u001b[0m\u001b[1;33m\u001b[0m\u001b[0m\n",
      "\u001b[1;32m/home/dj/anaconda3/envs/py2/lib/python2.7/ssl.pyc\u001b[0m in \u001b[0;36mrecv\u001b[1;34m(self, buflen, flags)\u001b[0m\n\u001b[0;32m    732\u001b[0m                     \u001b[1;34m\"non-zero flags not allowed in calls to recv() on %s\"\u001b[0m \u001b[1;33m%\u001b[0m\u001b[1;33m\u001b[0m\u001b[0m\n\u001b[0;32m    733\u001b[0m                     self.__class__)\n\u001b[1;32m--> 734\u001b[1;33m             \u001b[1;32mreturn\u001b[0m \u001b[0mself\u001b[0m\u001b[1;33m.\u001b[0m\u001b[0mread\u001b[0m\u001b[1;33m(\u001b[0m\u001b[0mbuflen\u001b[0m\u001b[1;33m)\u001b[0m\u001b[1;33m\u001b[0m\u001b[0m\n\u001b[0m\u001b[0;32m    735\u001b[0m         \u001b[1;32melse\u001b[0m\u001b[1;33m:\u001b[0m\u001b[1;33m\u001b[0m\u001b[0m\n\u001b[0;32m    736\u001b[0m             \u001b[1;32mreturn\u001b[0m \u001b[0mself\u001b[0m\u001b[1;33m.\u001b[0m\u001b[0m_sock\u001b[0m\u001b[1;33m.\u001b[0m\u001b[0mrecv\u001b[0m\u001b[1;33m(\u001b[0m\u001b[0mbuflen\u001b[0m\u001b[1;33m,\u001b[0m \u001b[0mflags\u001b[0m\u001b[1;33m)\u001b[0m\u001b[1;33m\u001b[0m\u001b[0m\n",
      "\u001b[1;32m/home/dj/anaconda3/envs/py2/lib/python2.7/ssl.pyc\u001b[0m in \u001b[0;36mread\u001b[1;34m(self, len, buffer)\u001b[0m\n\u001b[0;32m    619\u001b[0m                 \u001b[0mv\u001b[0m \u001b[1;33m=\u001b[0m \u001b[0mself\u001b[0m\u001b[1;33m.\u001b[0m\u001b[0m_sslobj\u001b[0m\u001b[1;33m.\u001b[0m\u001b[0mread\u001b[0m\u001b[1;33m(\u001b[0m\u001b[0mlen\u001b[0m\u001b[1;33m,\u001b[0m \u001b[0mbuffer\u001b[0m\u001b[1;33m)\u001b[0m\u001b[1;33m\u001b[0m\u001b[0m\n\u001b[0;32m    620\u001b[0m             \u001b[1;32melse\u001b[0m\u001b[1;33m:\u001b[0m\u001b[1;33m\u001b[0m\u001b[0m\n\u001b[1;32m--> 621\u001b[1;33m                 \u001b[0mv\u001b[0m \u001b[1;33m=\u001b[0m \u001b[0mself\u001b[0m\u001b[1;33m.\u001b[0m\u001b[0m_sslobj\u001b[0m\u001b[1;33m.\u001b[0m\u001b[0mread\u001b[0m\u001b[1;33m(\u001b[0m\u001b[0mlen\u001b[0m \u001b[1;32mor\u001b[0m \u001b[1;36m1024\u001b[0m\u001b[1;33m)\u001b[0m\u001b[1;33m\u001b[0m\u001b[0m\n\u001b[0m\u001b[0;32m    622\u001b[0m             \u001b[1;32mreturn\u001b[0m \u001b[0mv\u001b[0m\u001b[1;33m\u001b[0m\u001b[0m\n\u001b[0;32m    623\u001b[0m         \u001b[1;32mexcept\u001b[0m \u001b[0mSSLError\u001b[0m \u001b[1;32mas\u001b[0m \u001b[0mx\u001b[0m\u001b[1;33m:\u001b[0m\u001b[1;33m\u001b[0m\u001b[0m\n",
      "\u001b[1;31mKeyboardInterrupt\u001b[0m: "
     ]
    }
   ],
   "source": [
    "import thread\n",
    "import json\n",
    "\n",
    "#Import the necessary methods from tweepy library\n",
    "import tweepy\n",
    "from tweepy.streaming import StreamListener\n",
    "from tweepy import OAuthHandler\n",
    "from tweepy import Stream\n",
    "\n",
    "#Variables that contains the user credentials to access Twitter API \n",
    "APP_KEY = 'XQqwUHk3iy8Wlk3JNMWjeM42D'\n",
    "APP_SECRET = 'dD5B1Z7nc4cS2hvmoCo2qsZbqwCEOcI6yK94bqYfwhX9qjs4gQ'\n",
    "OAUTH_TOKEN = '1635231295-upESx6zFjY0oVRjre9mBP3Hp6OA0krhEKWdD3a6'\n",
    "OAUTH_TOKEN_SECRET = 'cFxHzCtlCSNmpnnQEBxAn6PXMDFcLR61J8vyKmrpmU'\n",
    "\n",
    "periodicos = { 'elmundo':'14436030', 'elpais':'7996082', 'abc':'19923515','larazon':'112694236',\n",
    "              'eldiarioes':'535707261','LaVanguardia':'74453123','publico':'17676713','20minutos':'31090827' ,\n",
    "              'raspbebot':'1635231295' }\n",
    "\n",
    "tweets = {}\n",
    "\n",
    "class MyListener(StreamListener):\n",
    " \n",
    "    def on_status(self, tweet):\n",
    "        \n",
    "        if tweet.user.screen_name in ['el_pais','elmundoes','abc_es','raspbebot']:\n",
    "            print(tweet.created_at)\n",
    "            print(tweet.user.screen_name)\n",
    "            print(tweet.text)\n",
    "            print(' *'*40)\n",
    "            tweets.setdefault(tweet.user.screen_name,[]).append((str(tweet.created_at), tweet.text))\n",
    "            \n",
    "    def on_error(self, status_code):\n",
    "        if status_code == 420:\n",
    "            return False\n",
    "\n",
    "\n",
    "auth = tweepy.OAuthHandler(APP_KEY, APP_SECRET)\n",
    "auth.set_access_token(OAUTH_TOKEN, OAUTH_TOKEN_SECRET)\n",
    "    \n",
    "twitter_stream = Stream(auth, MyListener())\n",
    "twitter_stream.filter(track='PP,Psoe,Podemos,Ciudadanos,Rajoy,Pedro,Pablo,Albert, \\\n",
    "                             ,Mariano,Sanchez,Iglesias,Rivera, \\\n",
    "                             CiudadanosCs,PPopular,PSOE,ahorapodemos',\n",
    "                      follow=[periodicos['elmundo'], periodicos['elpais'],periodicos['abc'],periodicos['larazon'], \n",
    "                              periodicos['eldiarioes'], periodicos['LaVanguardia'],periodicos['publico'],\n",
    "                              periodicos['20minutos'],periodicos['raspbebot']] ) \n",
    "\n",
    "\n",
    "\n",
    "# Poner async=True para una ejecucion en paralelo\n",
    "# Solo castellano languages=['es']\n",
    "\n",
    "# Para seguir periodicos\n",
    "#         [elmundo, elpais, abc, larazon,eldiarioes,LaVanguardia,publico,20minutos ,raspbebot]\n",
    "# follow=['14436030', '7996082', '19923515', '112694236','535707261','74453123','17676713','31090827','1635231295']\n",
    "# Termino de busqueda track=['dwwww']\n",
    "\n"
   ]
  },
  {
   "cell_type": "code",
   "execution_count": 22,
   "metadata": {
    "collapsed": false
   },
   "outputs": [
    {
     "name": "stdout",
     "output_type": "stream",
     "text": [
      "{u'raspbebot': [('2015-12-08 10:11:44', u'Albert que bonico')]}\n"
     ]
    }
   ],
   "source": [
    "print(tweets)"
   ]
  },
  {
   "cell_type": "code",
   "execution_count": 23,
   "metadata": {
    "collapsed": true
   },
   "outputs": [],
   "source": [
    "with open('periodicos.json', 'a') as f:\n",
    "    datos = json.dumps(tweets, sort_keys=True, indent=4, separators=(',',':'))\n",
    "    f.write(datos)\n",
    "              "
   ]
  },
  {
   "cell_type": "code",
   "execution_count": null,
   "metadata": {
    "collapsed": true
   },
   "outputs": [],
   "source": []
  }
 ],
 "metadata": {
  "kernelspec": {
   "display_name": "Python 2",
   "language": "python",
   "name": "python2"
  },
  "language_info": {
   "codemirror_mode": {
    "name": "ipython",
    "version": 2
   },
   "file_extension": ".py",
   "mimetype": "text/x-python",
   "name": "python",
   "nbconvert_exporter": "python",
   "pygments_lexer": "ipython2",
   "version": "2.7.6"
  }
 },
 "nbformat": 4,
 "nbformat_minor": 0
}
