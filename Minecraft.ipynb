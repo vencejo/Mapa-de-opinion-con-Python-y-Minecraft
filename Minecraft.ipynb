{
 "cells": [
  {
   "cell_type": "code",
   "execution_count": null,
   "metadata": {
    "collapsed": true
   },
   "outputs": [],
   "source": [
    "## Herramientas necesarias en Minecraft"
   ]
  },
  {
   "cell_type": "code",
   "execution_count": null,
   "metadata": {
    "collapsed": true
   },
   "outputs": [],
   "source": [
    "#Construccion de un bloque junto al jugador\n",
    "\n",
    "import mcpi.minecraft as minecraft\n",
    "mc = minecraft.Minecraft.create(\"192.168.1.3\")\n",
    "\n",
    "position = mc.player.getTilePos()\n",
    "x = position.x\n",
    "y = position.y\n",
    "z = position.z\n",
    "\n",
    "mc.setBlock(x,y+2,z,103)"
   ]
  },
  {
   "cell_type": "code",
   "execution_count": 1,
   "metadata": {
    "collapsed": false
   },
   "outputs": [
    {
     "ename": "KeyboardInterrupt",
     "evalue": "",
     "output_type": "error",
     "traceback": [
      "\u001b[1;31m---------------------------------------------------------------------------\u001b[0m",
      "\u001b[1;31mKeyboardInterrupt\u001b[0m                         Traceback (most recent call last)",
      "\u001b[1;32m<ipython-input-1-a4c830d33bfc>\u001b[0m in \u001b[0;36m<module>\u001b[1;34m()\u001b[0m\n\u001b[0;32m     17\u001b[0m \u001b[1;33m\u001b[0m\u001b[0m\n\u001b[0;32m     18\u001b[0m     \u001b[0mmc\u001b[0m\u001b[1;33m.\u001b[0m\u001b[0msetBlock\u001b[0m\u001b[1;33m(\u001b[0m\u001b[0mx\u001b[0m\u001b[1;33m+\u001b[0m\u001b[1;36m1\u001b[0m\u001b[1;33m,\u001b[0m \u001b[0my\u001b[0m\u001b[1;33m,\u001b[0m \u001b[0mz\u001b[0m\u001b[1;33m,\u001b[0m \u001b[0mlana\u001b[0m\u001b[1;33m,\u001b[0m\u001b[0mcolor\u001b[0m\u001b[1;33m)\u001b[0m\u001b[1;33m\u001b[0m\u001b[0m\n\u001b[1;32m---> 19\u001b[1;33m     \u001b[0mtime\u001b[0m\u001b[1;33m.\u001b[0m\u001b[0msleep\u001b[0m\u001b[1;33m(\u001b[0m\u001b[1;36m0.2\u001b[0m\u001b[1;33m)\u001b[0m\u001b[1;33m\u001b[0m\u001b[0m\n\u001b[0m\u001b[0;32m     20\u001b[0m     \u001b[0mmc\u001b[0m\u001b[1;33m.\u001b[0m\u001b[0msetBlock\u001b[0m\u001b[1;33m(\u001b[0m\u001b[0mx\u001b[0m\u001b[1;33m+\u001b[0m\u001b[1;36m2\u001b[0m\u001b[1;33m,\u001b[0m \u001b[0my\u001b[0m\u001b[1;33m,\u001b[0m \u001b[0mz\u001b[0m\u001b[1;33m,\u001b[0m \u001b[0mlana\u001b[0m\u001b[1;33m,\u001b[0m\u001b[0mcolor\u001b[0m\u001b[1;33m)\u001b[0m\u001b[1;33m\u001b[0m\u001b[0m\n\u001b[0;32m     21\u001b[0m     \u001b[0mtime\u001b[0m\u001b[1;33m.\u001b[0m\u001b[0msleep\u001b[0m\u001b[1;33m(\u001b[0m\u001b[1;36m0.2\u001b[0m\u001b[1;33m)\u001b[0m\u001b[1;33m\u001b[0m\u001b[0m\n",
      "\u001b[1;31mKeyboardInterrupt\u001b[0m: "
     ]
    }
   ],
   "source": [
    "# Barra de lana multicolor\n",
    "\n",
    "import time\n",
    "\n",
    "import mcpi.minecraft as minecraft\n",
    "mc = minecraft.Minecraft.create(\"192.168.1.9\")\n",
    "\n",
    "pos= mc.player.getTilePos()\n",
    "x = pos.x\n",
    "y = pos.y\n",
    "z = pos.z\n",
    "\n",
    "color = 0\n",
    "lana = 35\n",
    "\n",
    "while True:\n",
    "    \n",
    "    mc.setBlock(x+1, y, z, lana,color)\n",
    "    time.sleep(0.2)\n",
    "    mc.setBlock(x+2, y, z, lana,color)\n",
    "    time.sleep(0.2)\n",
    "    mc.setBlock(x+3, y, z, lana,color)\n",
    "    time.sleep(0.2)\n",
    "    mc.setBlock(x+4, y, z, lana,color)\n",
    "    time.sleep(0.2)\n",
    "    mc.setBlock(x+5, y, z, lana,color)\n",
    "    time.sleep(0.2)\n",
    "    mc.setBlock(x+6, y, z, lana,color)\n",
    "    time.sleep(0.2)\n",
    "    mc.setBlock(x+7, y, z, lana,color)\n",
    "    time.sleep(0.2)\n",
    "    mc.setBlock(x+8, y, z, lana,color)\n",
    "    time.sleep(0.2)\n",
    "    mc.setBlock(x+9, y, z, lana,color)\n",
    "    time.sleep(0.2)\n",
    "    mc.setBlock(x+10, y, z, lana,color)\n",
    "    time.sleep(0.2)\n",
    "    mc.setBlock(x+11, y, z, lana,color)\n",
    "    time.sleep(0.2)\n",
    "    mc.setBlock(x+12, y, z, lana,color)\n",
    "    \n",
    "    color = color + 1\n",
    "    if color > 15:\n",
    "        color = 0"
   ]
  },
  {
   "cell_type": "code",
   "execution_count": null,
   "metadata": {
    "collapsed": true
   },
   "outputs": [],
   "source": [
    "# Limpieza de un area determinada\n",
    "\n",
    "# Get the player position\n",
    "pos = mc.player.getTilePos()\n",
    "\n",
    "# Ask the user how big a space to clear\n",
    "size = int(raw_input(\"size of area to clear? \"))\n",
    "\n",
    "# Clear a space size by size*size*size, by setting it to AIR\n",
    "mc.setBlocks(pos.x, pos.y , pos.z, pos.x+size, pos.y+size, pos.z+size,0)"
   ]
  },
  {
   "cell_type": "markdown",
   "metadata": {},
   "source": [
    "### Modulo conexion"
   ]
  },
  {
   "cell_type": "code",
   "execution_count": null,
   "metadata": {
    "collapsed": true
   },
   "outputs": [],
   "source": [
    "%%writefile conexionMinecraft.py\n",
    "\n",
    "import mcpi.minecraft as minecraft\n",
    "\n",
    "\n",
    "class Conexion:\n",
    "    \n",
    "    def __init__(self, ip):\n",
    "        self.mc = minecraft.Minecraft.create(ip)"
   ]
  },
  {
   "cell_type": "markdown",
   "metadata": {},
   "source": [
    "### Modulo Bloque"
   ]
  },
  {
   "cell_type": "code",
   "execution_count": 1,
   "metadata": {
    "collapsed": false
   },
   "outputs": [
    {
     "name": "stdout",
     "output_type": "stream",
     "text": [
      "Overwriting bloqueConTweet.py\n"
     ]
    }
   ],
   "source": [
    "%%writefile bloqueConTweet.py\n",
    "\n",
    "import mcpi.minecraft as minecraft\n",
    "import math\n",
    "import datetime\n",
    "\n",
    "# Clase bloque\n",
    "\n",
    "class Bloque:\n",
    "    def __init__(self,conexion , x , y, z, info,tweet,fechaCreacionTweet,fechaCreacionBloque,periodico, tipo = 35, color = \"blanco\",\\\n",
    "                 estado=\"parpadeo\",visible = True, sentimiento=\"positive\" ):\n",
    "        self.mc = conexion.mc\n",
    "        self.x = x\n",
    "        self.y = y\n",
    "        self.z = z\n",
    "        self.fechaCreacionTweet = fechaCreacionTweet\n",
    "        self.fechaCreacionBloque = fechaCreacionBloque\n",
    "        self.periodico = periodico\n",
    "        self.info = info\n",
    "        self.tweet = tweet\n",
    "        self.tipo = tipo\n",
    "        self.estado = estado\n",
    "        self.visible = visible\n",
    "        self.sentimiento = sentimiento\n",
    "        self.color = self.dameCodigoColor(color)\n",
    "      \n",
    "    def __repr__(self):\n",
    "        return \"Bloque en %.1f %.1f %.1f con info %s\"%( self.x, self.y, self.z, self.info)\n",
    "        \n",
    "    def dameCodigoColor(self, color):\n",
    "        \"\"\" Esta funcion coge un color y te devuelve el codigo del bloque correspondiente de lana con ese color\"\"\"\n",
    "    \n",
    "        # Esto de abajo es un diccionario que se estructura en elementos de la forma llave:valor\n",
    "        wool = {\"blanco\": 0, \"naranja\": 1, \"purpura\": 2, \"azul\": 3, \"amarillo\": 4, \"verde\": 5, \"rosa\": 6, \"cacao\": 7,\n",
    "            \"gris\": 8, \"turquesa\": 9, \"lila\": 10, \"azul oscuro\": 11, \"marron\": 12, \"verde oscuro\": 13, \n",
    "            \"rojo\": 14,\"negro\": 15}\n",
    "    \n",
    "        return wool[color]\n",
    "        \n",
    "    def ponerBloque(self):\n",
    "        self.mc.setBlock(self.x, self.y, self.z, self.tipo , self.color)\n",
    "    \n",
    "    def distancia(self, punto):\n",
    "        xd = self.x - punto.x\n",
    "        yd = self.y - punto.y\n",
    "        zd = self.z - punto.z\n",
    "        return math.sqrt((xd*xd) + (yd*yd) + (zd*zd))\n",
    "    \n",
    "    def muestraInfo(self):\n",
    "        self.mc.postToChat(self.info)\n",
    "        \n",
    "    def haSidoGolpeado(self):\n",
    "        hits = self.mc.events.pollBlockHits()\n",
    "        for hit in hits:\n",
    "            if hit.pos.x == self.x and hit.pos.y == self.y and hit.pos.z == self.z:\n",
    "                return True\n",
    "            \n",
    "    def haSidoDestruido(self):\n",
    "        if self.mc.getBlock(self.x, self.y, self.z) == 0: \n",
    "            return True\n",
    "                \n",
    "\n",
    "            "
   ]
  },
  {
   "cell_type": "code",
   "execution_count": null,
   "metadata": {
    "collapsed": true
   },
   "outputs": [],
   "source": [
    "position = mc.player.getTilePos()\n",
    "x = position.x\n",
    "y = position.y\n",
    "z = position.z\n",
    "\n",
    "\n",
    "bloques = []\n",
    "\n",
    "b1 = Bloque(mc, x + 2, y, z, \"Hola\", color = \"negro\")\n",
    "bloques.append(b1)\n",
    "b2 = Bloque(mc, x + 5, y, z, \"Adios\", color = \"rojo\")\n",
    "bloques.append(b2)\n",
    "\n",
    "while True:\n",
    "    for bloque in bloques:\n",
    "        if bloque.haSidoGolpeado():\n",
    "            bloque.muestraInfo()\n",
    "        if bloque.haSidoDestruido():\n",
    "            mc.postToChat(\"Un bloque ha sido destruido\")\n",
    "    \n",
    "    "
   ]
  },
  {
   "cell_type": "markdown",
   "metadata": {},
   "source": [
    "## Campo de opinion"
   ]
  },
  {
   "cell_type": "code",
   "execution_count": null,
   "metadata": {
    "collapsed": true
   },
   "outputs": [],
   "source": [
    "import mcpi.minecraft as minecraft\n",
    "mc = minecraft.Minecraft.create(\"192.168.1.38\")\n",
    "\n",
    "\"\"\" Coordenadas del campo:\n",
    "\n",
    "(0,0,0)                       (16,0,0)                        (32,0,0)              x\n",
    "   +------------------------------+------------------------------+              +-------> \n",
    "   |                              |                              |              |\n",
    "   |                              |                              |            z |\n",
    "   |                              |                              |              |\n",
    "   |                              |                              |              |\n",
    "   |                              |                              |              v\n",
    "   |                              |                              |\n",
    "   |                              |                              |\n",
    "   +------------------------------+------------------------------+\n",
    "(0,0,16)                     (16,0,16)                         (32,0,16)  \n",
    "   \n",
    "\"\"\"\n",
    "size = 32\n",
    "\n",
    "# Aclaramos el terreno\n",
    "mc.setBlocks(-size*2, 0 , -size*2, size*2, size*2, size*2, 0)\n",
    "\n",
    "# Ponemos el suelo\n",
    "mc.setBlocks(0, -2 , 0, size, 0, size/2, 35,0)\n",
    "mc.setBlocks(17, 0 ,0, size, 0, size/2, 35,7)\n",
    "\n",
    "# Bordes del campo\n",
    "mc.setBlocks(-1, 0 , -1, 0, -1, 16, 35,15)\n",
    "mc.setBlocks(-1, 0 , -1, 32, 0, -1, 35,15)\n",
    "mc.setBlocks( 0, -1 , 16, 32, 0, 16, 35,15)\n",
    "mc.setBlocks( 32, 0 , -1, 32, 0, 16, 35,15)\n",
    "mc.setBlocks( 16, 0 , -1, 16, 0, 16, 35,15)\n",
    "\n",
    "# Teletrasportamos a Steve\n",
    "mc.player.setTilePos(16, 1, 16)\n"
   ]
  },
  {
   "cell_type": "code",
   "execution_count": 2,
   "metadata": {
    "collapsed": false
   },
   "outputs": [
    {
     "ename": "KeyboardInterrupt",
     "evalue": "",
     "output_type": "error",
     "traceback": [
      "\u001b[1;31m---------------------------------------------------------------------------\u001b[0m",
      "\u001b[1;31mKeyboardInterrupt\u001b[0m                         Traceback (most recent call last)",
      "\u001b[1;32m<ipython-input-2-e7b4e9a1978f>\u001b[0m in \u001b[0;36m<module>\u001b[1;34m()\u001b[0m\n\u001b[0;32m    159\u001b[0m     \u001b[0mcampo\u001b[0m\u001b[1;33m.\u001b[0m\u001b[0msituarBloque\u001b[0m\u001b[1;33m(\u001b[0m\u001b[0mfechaBloque4\u001b[0m\u001b[1;33m,\u001b[0m \u001b[1;36m8\u001b[0m\u001b[1;33m,\u001b[0m \u001b[1;34m\"4\"\u001b[0m\u001b[1;33m,\u001b[0m\u001b[1;34m\"rojo\"\u001b[0m\u001b[1;33m,\u001b[0m \u001b[1;34m'negativo'\u001b[0m\u001b[1;33m)\u001b[0m\u001b[1;33m\u001b[0m\u001b[0m\n\u001b[0;32m    160\u001b[0m \u001b[1;33m\u001b[0m\u001b[0m\n\u001b[1;32m--> 161\u001b[1;33m     \u001b[0mcampo\u001b[0m\u001b[1;33m.\u001b[0m\u001b[0mvigilaCampo\u001b[0m\u001b[1;33m(\u001b[0m\u001b[1;33m)\u001b[0m\u001b[1;33m\u001b[0m\u001b[0m\n\u001b[0m\u001b[0;32m    162\u001b[0m \u001b[1;33m\u001b[0m\u001b[0m\n",
      "\u001b[1;32m<ipython-input-2-e7b4e9a1978f>\u001b[0m in \u001b[0;36mvigilaCampo\u001b[1;34m(self)\u001b[0m\n\u001b[0;32m    107\u001b[0m                     \u001b[0mself\u001b[0m\u001b[1;33m.\u001b[0m\u001b[0mconexion\u001b[0m\u001b[1;33m.\u001b[0m\u001b[0mmc\u001b[0m\u001b[1;33m.\u001b[0m\u001b[0mpostToChat\u001b[0m\u001b[1;33m(\u001b[0m\u001b[0mbloque\u001b[0m\u001b[1;33m.\u001b[0m\u001b[0minfo\u001b[0m\u001b[1;33m)\u001b[0m\u001b[1;33m\u001b[0m\u001b[0m\n\u001b[0;32m    108\u001b[0m                 \u001b[1;31m# Al destruir el bloque pasa de ser negativo a positivo y viceversa\u001b[0m\u001b[1;33m\u001b[0m\u001b[1;33m\u001b[0m\u001b[0m\n\u001b[1;32m--> 109\u001b[1;33m                 \u001b[1;32mif\u001b[0m \u001b[0mconexion\u001b[0m\u001b[1;33m.\u001b[0m\u001b[0mmc\u001b[0m\u001b[1;33m.\u001b[0m\u001b[0mgetBlock\u001b[0m\u001b[1;33m(\u001b[0m\u001b[0mbloque\u001b[0m\u001b[1;33m.\u001b[0m\u001b[0mx\u001b[0m\u001b[1;33m,\u001b[0m \u001b[0mbloque\u001b[0m\u001b[1;33m.\u001b[0m\u001b[0my\u001b[0m\u001b[1;33m,\u001b[0m\u001b[0mbloque\u001b[0m\u001b[1;33m.\u001b[0m\u001b[0mz\u001b[0m\u001b[1;33m)\u001b[0m \u001b[1;33m==\u001b[0m \u001b[1;36m0\u001b[0m \u001b[1;32mand\u001b[0m \u001b[0mbloque\u001b[0m\u001b[1;33m.\u001b[0m\u001b[0mestado\u001b[0m \u001b[1;33m==\u001b[0m \u001b[1;34m'sinParpadeo'\u001b[0m \u001b[1;33m:\u001b[0m\u001b[1;33m\u001b[0m\u001b[0m\n\u001b[0m\u001b[0;32m    110\u001b[0m                     \u001b[1;32mif\u001b[0m \u001b[0mbloque\u001b[0m\u001b[1;33m.\u001b[0m\u001b[0mx\u001b[0m \u001b[1;33m<\u001b[0m \u001b[1;36m16\u001b[0m\u001b[1;33m:\u001b[0m\u001b[1;33m\u001b[0m\u001b[0m\n\u001b[0;32m    111\u001b[0m                         \u001b[0mbloque\u001b[0m\u001b[1;33m.\u001b[0m\u001b[0mx\u001b[0m \u001b[1;33m=\u001b[0m \u001b[1;36m16\u001b[0m \u001b[1;33m+\u001b[0m \u001b[0mabs\u001b[0m\u001b[1;33m(\u001b[0m\u001b[1;36m16\u001b[0m\u001b[1;33m-\u001b[0m\u001b[0mbloque\u001b[0m\u001b[1;33m.\u001b[0m\u001b[0mx\u001b[0m\u001b[1;33m)\u001b[0m\u001b[1;33m\u001b[0m\u001b[0m\n",
      "\u001b[1;32m/home/dj/Dropbox/Asociacion Almedia/Talleres/Taller Python con Minecraft/mapaOpinionEnMinecraft/mcpi/minecraft.pyc\u001b[0m in \u001b[0;36mgetBlock\u001b[1;34m(self, *args)\u001b[0m\n\u001b[0;32m    121\u001b[0m     \u001b[1;32mdef\u001b[0m \u001b[0mgetBlock\u001b[0m\u001b[1;33m(\u001b[0m\u001b[0mself\u001b[0m\u001b[1;33m,\u001b[0m \u001b[1;33m*\u001b[0m\u001b[0margs\u001b[0m\u001b[1;33m)\u001b[0m\u001b[1;33m:\u001b[0m\u001b[1;33m\u001b[0m\u001b[0m\n\u001b[0;32m    122\u001b[0m         \u001b[1;34m\"\"\"Get block (x,y,z) => id:int\"\"\"\u001b[0m\u001b[1;33m\u001b[0m\u001b[0m\n\u001b[1;32m--> 123\u001b[1;33m         \u001b[1;32mreturn\u001b[0m \u001b[0mint\u001b[0m\u001b[1;33m(\u001b[0m\u001b[0mself\u001b[0m\u001b[1;33m.\u001b[0m\u001b[0mconn\u001b[0m\u001b[1;33m.\u001b[0m\u001b[0msendReceive\u001b[0m\u001b[1;33m(\u001b[0m\u001b[1;34m\"world.getBlock\"\u001b[0m\u001b[1;33m,\u001b[0m \u001b[0mintFloor\u001b[0m\u001b[1;33m(\u001b[0m\u001b[0margs\u001b[0m\u001b[1;33m)\u001b[0m\u001b[1;33m)\u001b[0m\u001b[1;33m)\u001b[0m\u001b[1;33m\u001b[0m\u001b[0m\n\u001b[0m\u001b[0;32m    124\u001b[0m \u001b[1;33m\u001b[0m\u001b[0m\n\u001b[0;32m    125\u001b[0m     \u001b[1;32mdef\u001b[0m \u001b[0mgetBlockWithData\u001b[0m\u001b[1;33m(\u001b[0m\u001b[0mself\u001b[0m\u001b[1;33m,\u001b[0m \u001b[1;33m*\u001b[0m\u001b[0margs\u001b[0m\u001b[1;33m)\u001b[0m\u001b[1;33m:\u001b[0m\u001b[1;33m\u001b[0m\u001b[0m\n",
      "\u001b[1;32m/home/dj/Dropbox/Asociacion Almedia/Talleres/Taller Python con Minecraft/mapaOpinionEnMinecraft/mcpi/connection.pyc\u001b[0m in \u001b[0;36msendReceive\u001b[1;34m(self, *data)\u001b[0m\n\u001b[0;32m     48\u001b[0m         \u001b[1;34m\"\"\"Sends and receive data\"\"\"\u001b[0m\u001b[1;33m\u001b[0m\u001b[0m\n\u001b[0;32m     49\u001b[0m         \u001b[0mself\u001b[0m\u001b[1;33m.\u001b[0m\u001b[0msend\u001b[0m\u001b[1;33m(\u001b[0m\u001b[1;33m*\u001b[0m\u001b[0mdata\u001b[0m\u001b[1;33m)\u001b[0m\u001b[1;33m\u001b[0m\u001b[0m\n\u001b[1;32m---> 50\u001b[1;33m         \u001b[1;32mreturn\u001b[0m \u001b[0mself\u001b[0m\u001b[1;33m.\u001b[0m\u001b[0mreceive\u001b[0m\u001b[1;33m(\u001b[0m\u001b[1;33m)\u001b[0m\u001b[1;33m\u001b[0m\u001b[0m\n\u001b[0m",
      "\u001b[1;32m/home/dj/Dropbox/Asociacion Almedia/Talleres/Taller Python con Minecraft/mapaOpinionEnMinecraft/mcpi/connection.pyc\u001b[0m in \u001b[0;36mreceive\u001b[1;34m(self)\u001b[0m\n\u001b[0;32m     40\u001b[0m     \u001b[1;32mdef\u001b[0m \u001b[0mreceive\u001b[0m\u001b[1;33m(\u001b[0m\u001b[0mself\u001b[0m\u001b[1;33m)\u001b[0m\u001b[1;33m:\u001b[0m\u001b[1;33m\u001b[0m\u001b[0m\n\u001b[0;32m     41\u001b[0m         \u001b[1;34m\"\"\"Receives data. Note that the trailing newline '\\n' is trimmed\"\"\"\u001b[0m\u001b[1;33m\u001b[0m\u001b[0m\n\u001b[1;32m---> 42\u001b[1;33m         \u001b[0ms\u001b[0m \u001b[1;33m=\u001b[0m \u001b[0mself\u001b[0m\u001b[1;33m.\u001b[0m\u001b[0msocket\u001b[0m\u001b[1;33m.\u001b[0m\u001b[0mmakefile\u001b[0m\u001b[1;33m(\u001b[0m\u001b[1;34m\"r\"\u001b[0m\u001b[1;33m)\u001b[0m\u001b[1;33m.\u001b[0m\u001b[0mreadline\u001b[0m\u001b[1;33m(\u001b[0m\u001b[1;33m)\u001b[0m\u001b[1;33m.\u001b[0m\u001b[0mrstrip\u001b[0m\u001b[1;33m(\u001b[0m\u001b[1;34m\"\\n\"\u001b[0m\u001b[1;33m)\u001b[0m\u001b[1;33m\u001b[0m\u001b[0m\n\u001b[0m\u001b[0;32m     43\u001b[0m         \u001b[1;32mif\u001b[0m \u001b[0ms\u001b[0m \u001b[1;33m==\u001b[0m \u001b[0mConnection\u001b[0m\u001b[1;33m.\u001b[0m\u001b[0mRequestFailed\u001b[0m\u001b[1;33m:\u001b[0m\u001b[1;33m\u001b[0m\u001b[0m\n\u001b[0;32m     44\u001b[0m             \u001b[1;32mraise\u001b[0m \u001b[0mRequestError\u001b[0m\u001b[1;33m(\u001b[0m\u001b[1;34m\"%s failed\"\u001b[0m\u001b[1;33m%\u001b[0m\u001b[0mself\u001b[0m\u001b[1;33m.\u001b[0m\u001b[0mlastSent\u001b[0m\u001b[1;33m.\u001b[0m\u001b[0mstrip\u001b[0m\u001b[1;33m(\u001b[0m\u001b[1;33m)\u001b[0m\u001b[1;33m)\u001b[0m\u001b[1;33m\u001b[0m\u001b[0m\n",
      "\u001b[1;32m/usr/lib/python2.7/socket.pyc\u001b[0m in \u001b[0;36mreadline\u001b[1;34m(self, size)\u001b[0m\n\u001b[0;32m    445\u001b[0m             \u001b[1;32mwhile\u001b[0m \u001b[0mTrue\u001b[0m\u001b[1;33m:\u001b[0m\u001b[1;33m\u001b[0m\u001b[0m\n\u001b[0;32m    446\u001b[0m                 \u001b[1;32mtry\u001b[0m\u001b[1;33m:\u001b[0m\u001b[1;33m\u001b[0m\u001b[0m\n\u001b[1;32m--> 447\u001b[1;33m                     \u001b[0mdata\u001b[0m \u001b[1;33m=\u001b[0m \u001b[0mself\u001b[0m\u001b[1;33m.\u001b[0m\u001b[0m_sock\u001b[0m\u001b[1;33m.\u001b[0m\u001b[0mrecv\u001b[0m\u001b[1;33m(\u001b[0m\u001b[0mself\u001b[0m\u001b[1;33m.\u001b[0m\u001b[0m_rbufsize\u001b[0m\u001b[1;33m)\u001b[0m\u001b[1;33m\u001b[0m\u001b[0m\n\u001b[0m\u001b[0;32m    448\u001b[0m                 \u001b[1;32mexcept\u001b[0m \u001b[0merror\u001b[0m\u001b[1;33m,\u001b[0m \u001b[0me\u001b[0m\u001b[1;33m:\u001b[0m\u001b[1;33m\u001b[0m\u001b[0m\n\u001b[0;32m    449\u001b[0m                     \u001b[1;32mif\u001b[0m \u001b[0me\u001b[0m\u001b[1;33m.\u001b[0m\u001b[0margs\u001b[0m\u001b[1;33m[\u001b[0m\u001b[1;36m0\u001b[0m\u001b[1;33m]\u001b[0m \u001b[1;33m==\u001b[0m \u001b[0mEINTR\u001b[0m\u001b[1;33m:\u001b[0m\u001b[1;33m\u001b[0m\u001b[0m\n",
      "\u001b[1;31mKeyboardInterrupt\u001b[0m: "
     ]
    }
   ],
   "source": [
    "#%%writefile campoOpinion.py\n",
    "\n",
    "import mcpi.minecraft as minecraft\n",
    "import conexionMinecraft as Conexion\n",
    "import bloqueConTweet as Bloque\n",
    "import math\n",
    "import datetime\n",
    "import time\n",
    "\n",
    "class CampoOpinion:\n",
    "    def __init__(self, conexion ,origenX, origenY, origenZ, largo, ancho, fechaInicio, fechaFinal, unidadesTiempo ):\n",
    "        self.conexion = conexion\n",
    "        self.origenX = origenX\n",
    "        self.origenY = origenY\n",
    "        self.origenZ = origenZ\n",
    "        self.largo = largo\n",
    "        self.ancho = ancho\n",
    "        self.fechaInicio = fechaInicio\n",
    "        self.fechaFinal = fechaFinal\n",
    "        self.unidadesTiempo = unidadesTiempo\n",
    "        self.tiempoParpadeo = 2 #segundos\n",
    "        self.bloques = []\n",
    "        \n",
    "    def dibujarCampo(self):\n",
    "        # Aclaramos el terreno\n",
    "        self.conexion.mc.setBlocks(self.origenX-self.largo*2, self.origenY , self.origenZ-self.largo*2,\\\n",
    "                          self.origenX +self.largo*2, self.origenY + self.largo*2, self.origenY + self.largo*2, 0)\n",
    "\n",
    "        # Ponemos el suelo\n",
    "        self.conexion.mc.setBlocks(self.origenX, self.origenY-2 ,self.origenZ ,\\\n",
    "                          self.origenX+self.largo, self.origenY, self.origenZ+self.largo/2, 35,0)\n",
    "        self.conexion.mc.setBlocks(self.origenX + 17, self.origenY ,self.origenZ, \\\n",
    "                          self.origenX +self.largo, self.origenY, self.origenZ+self.largo/2, 35,7)\n",
    "        # Bordes del campo+\n",
    "        self.conexion.mc.setBlocks(self.origenX-1, self.origenY , self.origenZ-1, self.origenX, self.origenY-1, self.origenZ+16, 35,15)\n",
    "        self.conexion.mc.setBlocks(self.origenX-1, self.origenY , self.origenZ-1, self.origenX+32, self.origenY, self.origenZ-1, 35,15)\n",
    "        self.conexion.mc.setBlocks( self.origenX, self.origenY-1 , self.origenZ+16, self.origenX+32, self.origenY, self.origenZ+16, 35,15)\n",
    "        self.conexion.mc.setBlocks( self.origenX + 32, self.origenY , self.origenZ-1, self.origenX+32, self.origenY, self.origenZ+16, 35,15)\n",
    "        self.conexion.mc.setBlocks( self.origenX + 16, self.origenY , self.origenZ-1, self.origenX+16, self.origenY, self.origenZ+16, 35,15)\n",
    "\n",
    "        # Teletrasportamos a Steve\n",
    "        self.conexion.mc.player.setTilePos(self.origenX+16, self.origenY+1, self.origenZ+16)\n",
    "        \n",
    "    def situarBloque(self, fechaBloque, creador,infoBloque,color, tipoBloque = 'positivo'):\n",
    "        \"\"\" Da la coordenada x para situar el bloque en el campo de opinion segun la fecha de creacion del mismo\n",
    "        Todos los bloques creados en el primer instante se situan en las coordenadas con origenX si tienen calificacion\n",
    "        positiva y en origenX+largo si tienen clasificacion negativa, los que se crean\n",
    "        un tiempo mas tarde se van situando en x que se van acercando al centro del campo\n",
    "        La coordenada Z esta marcada por el creador del bloque, cada creador tiene una z asignada\n",
    "        Los bloques del mismo creador , del mismo tipo y asignados a la misma x se apilan en el eje Y \"\"\"\n",
    "        \n",
    "        if fechaBloque <= self.fechaInicio:\n",
    "            return self.origenX\n",
    "        if fechaBloque >= self.fechaFinal:\n",
    "            return self.largo/2\n",
    "        \n",
    "        diferenciaInicialFinal = self.fechaFinal - self.fechaInicio\n",
    "        diferenciaInicialBloque = fechaBloque - self.fechaInicio\n",
    "        \n",
    "        if self.unidadesTiempo == 'minutos':\n",
    "            instanteDiferenciaInicialFinal = (diferenciaInicialFinal.seconds//60)%60\n",
    "            instanteDiferenciaInicialBloque = (diferenciaInicialBloque.seconds//60)%60\n",
    "        elif self.unidadesTiempo == 'horas':\n",
    "            instanteDiferenciaInicialFinal = diferenciaInicialFinal.seconds//3600\n",
    "            instanteDiferenciaInicialBloque = diferenciaInicialBloque.seconds//3600\n",
    "        elif self.unidadesTiempo == 'dias':\n",
    "            instanteDiferenciaInicialFinal = diferenciaInicialFinal.days\n",
    "            instanteDiferenciaInicialBloque = diferenciaInicialBloque.days\n",
    "            \n",
    "        x = (instanteDiferenciaInicialBloque * self.largo/2)/instanteDiferenciaInicialFinal\n",
    "        z = creador\n",
    "        y = 1\n",
    "        \n",
    "        if tipoBloque != 'positivo':\n",
    "            x , y, z = self.largo - x, y , z\n",
    "         \n",
    "        for bloque in self.bloques:\n",
    "            if bloque.x == x and bloque.z == z:\n",
    "                if bloque.y >= y:\n",
    "                    y = bloque.y + 1\n",
    "                    \n",
    "        b = Bloque.Bloque(self.conexion, x, y, z,infoBloque,fechaBloque,color=color)\n",
    "        b.ponerBloque()\n",
    "        self.bloques.append(b)\n",
    "        \n",
    "    def vigilaCampo(self):\n",
    "        while True:\n",
    "            for bloque in self.bloques:\n",
    "                \n",
    "                # Los bloques recien puestos parpadean\n",
    "                tiempoParpadeo = datetime.timedelta(seconds=self.tiempoParpadeo )\n",
    "                ahora = datetime.datetime.now()\n",
    "                #ahora = datetime.datetime(2003, 8, 4, 12, 56, 50)\n",
    "                finParpadeo = bloque.fechaCreacion + tiempoParpadeo\n",
    "                \n",
    "                if ahora < finParpadeo:\n",
    "                    if bloque.estado == 'parpadeo' and bloque.visible:\n",
    "                        bloque.visible = False\n",
    "                        conexion.mc.setBlock(bloque.x, bloque.y,bloque.z,0)\n",
    "                    elif bloque.estado == 'parpadeo' and not bloque.visible:\n",
    "                        bloque.visible = True\n",
    "                        conexion.mc.setBlock(bloque.x, bloque.y,bloque.z,35,bloque.color)\n",
    "                elif bloque.estado == 'parpadeo':\n",
    "                    bloque.estado = 'sinParpadeo'\n",
    "                    bloque.visible = True\n",
    "                    conexion.mc.setBlock(bloque.x, bloque.y,bloque.z,35,bloque.color)\n",
    "                \n",
    "                # Sacando la info del bloque\n",
    "                if bloque.haSidoGolpeado():\n",
    "                    self.conexion.mc.postToChat(bloque.info)\n",
    "                # Al destruir el bloque pasa de ser negativo a positivo y viceversa\n",
    "                if conexion.mc.getBlock(bloque.x, bloque.y,bloque.z) == 0 and bloque.estado == 'sinParpadeo' :\n",
    "                    if bloque.x < 16:\n",
    "                        bloque.x = 16 + abs(16-bloque.x)\n",
    "                    elif bloque.x > 16:\n",
    "                        bloque.x = 16 - abs(16-bloque.x)\n",
    "   \n",
    "                    conexion.mc.setBlock(bloque.x, bloque.y,bloque.z,35,bloque.color)\n",
    "    \n",
    "        \n",
    "        \n",
    "            \n",
    "\n",
    "\"\"\" Coordenadas del campo:\n",
    "\n",
    "(0,0,0)                       (16,0,0)                        (32,0,0)              x\n",
    "   +------------------------------+------------------------------+              +-------> \n",
    "   |                              |                              |              |\n",
    "   |                              |                              |            z |\n",
    "   |                              |                              |              |\n",
    "   |                              |                              |              |\n",
    "   |                              |                              |              v\n",
    "   |                              |                              |\n",
    "   |                              |                              |\n",
    "   +------------------------------+------------------------------+\n",
    "(0,0,16)                     (16,0,16)                         (32,0,16)  \n",
    "   \n",
    "\"\"\"\n",
    "\n",
    "    \n",
    "if __name__ == \"__main__\":\n",
    "    conexion = Conexion.Conexion(\"192.168.1.8\")\n",
    "\n",
    "    intervaloTiempoCampo = datetime.timedelta(minutes = 16)\n",
    "    fechaInicio = datetime.datetime.now()\n",
    "    fechaFinal = fechaInicio  + intervaloTiempoCampo\n",
    "\n",
    "    #(self, conexion ,origenX, origenY, origenZ, largo, ancho, fechaInicio, fechaFinal, unidades )\n",
    "    campo = CampoOpinion(conexion, 0,0,0,32,16,fechaInicio,fechaFinal,'minutos')\n",
    "    campo.dibujarCampo()\n",
    "    #situarBloque(self, fechaBloque, creador,infoBloque,color, tipoBloque = 'positivo')\n",
    "    fechaBloque1 = datetime.datetime.now()\n",
    "    campo.situarBloque(fechaBloque1, 8, \"1\",\"rojo\", 'negativo')\n",
    "    time.sleep(5)\n",
    "    fechaBloque2 = datetime.datetime.now()\n",
    "    campo.situarBloque(fechaBloque2, 8, \"2\",\"azul\", 'negativo')\n",
    "    time.sleep(5)\n",
    "    fechaBloque3 = datetime.datetime.now() \n",
    "    campo.situarBloque(fechaBloque3, 8, \"3\",\"verde\", 'negativo')\n",
    "    time.sleep(5)\n",
    "    fechaBloque4 = datetime.datetime.now()\n",
    "    campo.situarBloque(fechaBloque4, 8, \"4\",\"rojo\", 'negativo')\n",
    "    \n",
    "    campo.vigilaCampo()\n",
    "    "
   ]
  },
  {
   "cell_type": "code",
   "execution_count": 8,
   "metadata": {
    "collapsed": false
   },
   "outputs": [
    {
     "data": {
      "text/plain": [
       "16"
      ]
     },
     "execution_count": 8,
     "metadata": {},
     "output_type": "execute_result"
    }
   ],
   "source": [
    "intervaloTiempoCampo = datetime.timedelta(hours = 4)\n",
    "fechaInicio = datetime.datetime.now()\n",
    "fechaFinal = fechaInicio  + intervaloTiempoCampo\n",
    "\n",
    "#(self, conexion ,origenX, origenY, origenZ, largo, ancho, fechaInicio, fechaFinal, unidades )\n",
    "campo = CampoOpinion(conexion, 0,0,0,32,16,fechaInicio,fechaFinal,'horas')\n",
    "campo.dibujarCampo()\n",
    "\n",
    "mediaHora= datetime.timedelta(minutes = 30)\n",
    "fechaBloque = datetime.datetime.now() + mediaHora\n",
    "campo.situarBloque(fechaBloque, 8, \"4\",\"rojo\", 'positivo')\n",
    "fechaBloque = datetime.datetime.now() + 2*mediaHora\n",
    "campo.situarBloque(fechaBloque, 8, \"4\",\"rojo\", 'positivo')\n",
    "fechaBloque = datetime.datetime.now() + 3*mediaHora\n",
    "campo.situarBloque(fechaBloque, 8, \"4\",\"rojo\", 'positivo')\n",
    "fechaBloque = datetime.datetime.now() + 4*mediaHora\n",
    "campo.situarBloque(fechaBloque, 8, \"4\",\"rojo\", 'positivo')\n",
    "fechaBloque = datetime.datetime.now() + 5*mediaHora\n",
    "campo.situarBloque(fechaBloque, 8, \"4\",\"rojo\", 'positivo')\n",
    "fechaBloque = datetime.datetime.now() + 6*mediaHora\n",
    "campo.situarBloque(fechaBloque, 8, \"4\",\"rojo\", 'positivo')\n",
    "fechaBloque = datetime.datetime.now() + 7*mediaHora\n",
    "campo.situarBloque(fechaBloque, 8, \"4\",\"rojo\", 'positivo')\n",
    "fechaBloque = datetime.datetime.now() + 8*mediaHora\n",
    "campo.situarBloque(fechaBloque, 8, \"4\",\"rojo\", 'positivo')\n",
    "fechaBloque = datetime.datetime.now() + 9*mediaHora\n",
    "campo.situarBloque(fechaBloque, 8, \"4\",\"verde\", 'positivo')"
   ]
  },
  {
   "cell_type": "markdown",
   "metadata": {},
   "source": [
    "## Detectando el bloque mas cercano en el campo de opinion"
   ]
  },
  {
   "cell_type": "code",
   "execution_count": 9,
   "metadata": {
    "collapsed": false
   },
   "outputs": [
    {
     "ename": "TypeError",
     "evalue": "__init__() takes at least 7 arguments (7 given)",
     "output_type": "error",
     "traceback": [
      "\u001b[1;31m---------------------------------------------------------------------------\u001b[0m",
      "\u001b[1;31mTypeError\u001b[0m                                 Traceback (most recent call last)",
      "\u001b[1;32m<ipython-input-9-f500f229d54d>\u001b[0m in \u001b[0;36m<module>\u001b[1;34m()\u001b[0m\n\u001b[0;32m      9\u001b[0m \u001b[0mbloques\u001b[0m \u001b[1;33m=\u001b[0m \u001b[1;33m[\u001b[0m\u001b[1;33m]\u001b[0m\u001b[1;33m\u001b[0m\u001b[0m\n\u001b[0;32m     10\u001b[0m \u001b[1;33m\u001b[0m\u001b[0m\n\u001b[1;32m---> 11\u001b[1;33m \u001b[0mb1\u001b[0m \u001b[1;33m=\u001b[0m \u001b[0mBloque\u001b[0m\u001b[1;33m.\u001b[0m\u001b[0mBloque\u001b[0m\u001b[1;33m(\u001b[0m\u001b[0mconexion\u001b[0m\u001b[1;33m,\u001b[0m \u001b[1;36m8\u001b[0m\u001b[1;33m,\u001b[0m \u001b[1;36m1\u001b[0m\u001b[1;33m,\u001b[0m \u001b[1;36m8\u001b[0m\u001b[1;33m,\u001b[0m \u001b[1;34m\"Hola\"\u001b[0m\u001b[1;33m,\u001b[0m \u001b[0mcolor\u001b[0m \u001b[1;33m=\u001b[0m \u001b[1;34m\"azul\"\u001b[0m\u001b[1;33m)\u001b[0m\u001b[1;33m\u001b[0m\u001b[0m\n\u001b[0m\u001b[0;32m     12\u001b[0m \u001b[0mbloques\u001b[0m\u001b[1;33m.\u001b[0m\u001b[0mappend\u001b[0m\u001b[1;33m(\u001b[0m\u001b[0mb1\u001b[0m\u001b[1;33m)\u001b[0m\u001b[1;33m\u001b[0m\u001b[0m\n\u001b[0;32m     13\u001b[0m \u001b[0mb2\u001b[0m \u001b[1;33m=\u001b[0m \u001b[0mBloque\u001b[0m\u001b[1;33m.\u001b[0m\u001b[0mBloque\u001b[0m\u001b[1;33m(\u001b[0m\u001b[0mconexion\u001b[0m\u001b[1;33m,\u001b[0m\u001b[1;36m10\u001b[0m\u001b[1;33m,\u001b[0m \u001b[1;36m1\u001b[0m\u001b[1;33m,\u001b[0m \u001b[1;36m14\u001b[0m\u001b[1;33m,\u001b[0m \u001b[1;34m\"Adios\"\u001b[0m\u001b[1;33m,\u001b[0m \u001b[0mcolor\u001b[0m \u001b[1;33m=\u001b[0m \u001b[1;34m\"rojo\"\u001b[0m\u001b[1;33m)\u001b[0m\u001b[1;33m\u001b[0m\u001b[0m\n",
      "\u001b[1;31mTypeError\u001b[0m: __init__() takes at least 7 arguments (7 given)"
     ]
    }
   ],
   "source": [
    "import mcpi.minecraft as minecraft\n",
    "import bloqueConTweet as Bloque\n",
    "import conexionMinecraft as Conexion\n",
    "import math\n",
    "import time\n",
    "\n",
    "conexion = Conexion.Conexion(\"192.168.1.8\")\n",
    "\n",
    "bloques = []\n",
    "\n",
    "b1 = Bloque.Bloque(conexion, 8, 1, 8, \"Hola\", color = \"azul\")\n",
    "bloques.append(b1)\n",
    "b2 = Bloque.Bloque(conexion,10, 1, 14, \"Adios\", color = \"rojo\")\n",
    "bloques.append(b2)\n",
    "b3 = Bloque.Bloque(conexion,14, 1, 14, \"que tal\", color = \"amarillo\")\n",
    "bloques.append(b3)\n",
    "\n",
    "\n",
    "distanciaMinParaDeteccion = 3\n",
    "distanciaBloqueMasCercano =  1000\n",
    "bloqueMasCercanoAJugador = None\n",
    "\n",
    "while True:\n",
    "\n",
    "    # Tomo la posicion del jugador\n",
    "    posicionJugador = conexion.mc.player.getTilePos()\n",
    "    \n",
    "    for bloque in bloques:\n",
    "        distanciaBloqueAJugador = bloque.distancia(posicionJugador)\n",
    "        print(distanciaBloqueAJugador)\n",
    "        if  distanciaBloqueAJugador < distanciaMinParaDeteccion and distanciaBloqueAJugador < distanciaBloqueMasCercano :\n",
    "            bloque.muestraInfo()\n",
    "            distanciaBloqueMasCercano = distanciaBloqueAJugador\n",
    "            bloqueMasCercanoAJugador = bloque\n",
    "            \n",
    "    if bloqueMasCercanoAJugador != None:\n",
    "        bloqueMasCercanoAJugador.muestraInfo()\n",
    "        distanciaBloqueMasCercano =  1000\n",
    "        bloqueMasCercanoAJugador = None\n",
    "\n",
    "        \n",
    "    "
   ]
  },
  {
   "cell_type": "markdown",
   "metadata": {},
   "source": [
    "## Gestor de bloques"
   ]
  },
  {
   "cell_type": "code",
   "execution_count": null,
   "metadata": {
    "collapsed": false
   },
   "outputs": [],
   "source": [
    "import mcpi.minecraft as minecraft\n",
    "import bloqueConTweet as Bloque\n",
    "import conexionMinecraft as Conexion\n",
    "import math\n",
    "import time\n",
    "import datetime\n",
    "\n",
    "conexion = Conexion.Conexion(\"192.168.1.38\")\n",
    "\n",
    "bloques = []\n",
    "\n",
    "b1 = Bloque.Bloque(conexion, 8, 1, 8, \"Hola\", color = \"azul\", datetime.datetime(2003, 8, 4, 21, 41, 43))\n",
    "bloques.append(b1)\n",
    "b2 = Bloque.Bloque(conexion,10, 1, 14, \"Adios\", color = \"rojo\", datetime.datetime(2003, 8, 4, 21, 41, 43))\n",
    "bloques.append(b2)\n",
    "b3 = Bloque.Bloque(conexion,14, 1, 14, \"que tal\", color = \"amarillo\", datetime.datetime(2003, 8, 4, 21, 41, 43))\n",
    "bloques.append(b3)\n",
    "# the default formatting for a datetime object is an ISO 8601-style string: “yyyy-mm-dd hh:mm:ss”\n",
    "\n",
    "\n",
    "distanciaMinParaDeteccion = 3\n",
    "distanciaBloqueMasCercano =  1000\n",
    "bloqueMasCercanoAJugador = None\n",
    "\n",
    "while True:\n",
    "\n",
    "    # Tomo la posicion del jugador\n",
    "    posicionJugador = conexion.mc.player.getTilePos()\n",
    "    \n",
    "    for bloque in bloques:\n",
    "        #Compruebo que el bloque existe en su posicion original, y si no existe lo pongo en la otra zona del campo\n",
    "        if conexion.mc.getBlock(bloque.x, bloque.y,bloque.z) == 0:\n",
    "            if bloque.x < 16:\n",
    "                bloque.x = 16 + abs(16-bloque.x)\n",
    "            elif bloque.x > 16:\n",
    "                bloque.x = 16 - abs(16-bloque.x)\n",
    "   \n",
    "            conexion.mc.setBlock(bloque.x, bloque.y,bloque.z,35,bloque.color)\n",
    "            \n",
    "        distanciaBloqueAJugador = bloque.distancia(posicionJugador)\n",
    "        \n",
    "        if  distanciaBloqueAJugador < distanciaMinParaDeteccion and distanciaBloqueAJugador < distanciaBloqueMasCercano :\n",
    "            bloque.muestraInfo()\n",
    "            distanciaBloqueMasCercano = distanciaBloqueAJugador\n",
    "            bloqueMasCercanoAJugador = bloque\n",
    "            \n",
    "    if bloqueMasCercanoAJugador != None:\n",
    "        bloqueMasCercanoAJugador.muestraInfo()\n",
    "        distanciaBloqueMasCercano =  1000\n",
    "        bloqueMasCercanoAJugador = None"
   ]
  },
  {
   "cell_type": "code",
   "execution_count": null,
   "metadata": {
    "collapsed": true
   },
   "outputs": [],
   "source": []
  },
  {
   "cell_type": "code",
   "execution_count": null,
   "metadata": {
    "collapsed": true
   },
   "outputs": [],
   "source": []
  },
  {
   "cell_type": "code",
   "execution_count": null,
   "metadata": {
    "collapsed": true
   },
   "outputs": [],
   "source": []
  }
 ],
 "metadata": {
  "kernelspec": {
   "display_name": "Python 2",
   "language": "python",
   "name": "python2"
  },
  "language_info": {
   "codemirror_mode": {
    "name": "ipython",
    "version": 2
   },
   "file_extension": ".py",
   "mimetype": "text/x-python",
   "name": "python",
   "nbconvert_exporter": "python",
   "pygments_lexer": "ipython2",
   "version": "2.7.6"
  }
 },
 "nbformat": 4,
 "nbformat_minor": 0
}
